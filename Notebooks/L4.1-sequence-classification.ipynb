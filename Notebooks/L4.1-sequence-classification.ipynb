{
 "cells": [
  {
   "cell_type": "markdown",
   "metadata": {},
   "source": [
    "##### Master Degree in Computer Science and Data Science for Economics\n",
    "\n",
    "# Classification by RNN\n",
    "\n",
    "### Alfio Ferrara\n",
    "\n",
    "You can also see the [Tutorial PyTorch](https://pytorch.org/tutorials/intermediate/char_rnn_classification_tutorial)."
   ]
  },
  {
   "cell_type": "markdown",
   "metadata": {},
   "source": [
    "## Data preparation"
   ]
  },
  {
   "cell_type": "code",
   "execution_count": 1,
   "metadata": {},
   "outputs": [],
   "source": [
    "import pandas as pd \n",
    "import numpy as np \n",
    "import matplotlib.pyplot as plt"
   ]
  },
  {
   "cell_type": "code",
   "execution_count": 2,
   "metadata": {},
   "outputs": [],
   "source": [
    "folder = '../'\n",
    "classification_path = '{}/data/roman_number-classification.csv'.format(folder)\n",
    "data = pd.read_csv(classification_path)"
   ]
  },
  {
   "cell_type": "code",
   "execution_count": 3,
   "metadata": {},
   "outputs": [
    {
     "data": {
      "text/html": [
       "<div>\n",
       "<style scoped>\n",
       "    .dataframe tbody tr th:only-of-type {\n",
       "        vertical-align: middle;\n",
       "    }\n",
       "\n",
       "    .dataframe tbody tr th {\n",
       "        vertical-align: top;\n",
       "    }\n",
       "\n",
       "    .dataframe thead th {\n",
       "        text-align: right;\n",
       "    }\n",
       "</style>\n",
       "<table border=\"1\" class=\"dataframe\">\n",
       "  <thead>\n",
       "    <tr style=\"text-align: right;\">\n",
       "      <th></th>\n",
       "      <th>sequence</th>\n",
       "      <th>target</th>\n",
       "    </tr>\n",
       "  </thead>\n",
       "  <tbody>\n",
       "    <tr>\n",
       "      <th>0</th>\n",
       "      <td>___CXXXIII</td>\n",
       "      <td>odd</td>\n",
       "    </tr>\n",
       "    <tr>\n",
       "      <th>1</th>\n",
       "      <td>____CXCVII</td>\n",
       "      <td>odd</td>\n",
       "    </tr>\n",
       "  </tbody>\n",
       "</table>\n",
       "</div>"
      ],
      "text/plain": [
       "     sequence target\n",
       "0  ___CXXXIII    odd\n",
       "1  ____CXCVII    odd"
      ]
     },
     "execution_count": 3,
     "metadata": {},
     "output_type": "execute_result"
    }
   ],
   "source": [
    "data.head(2)"
   ]
  },
  {
   "cell_type": "markdown",
   "metadata": {},
   "source": [
    "We build a dictionary `{'category': [list of numbers]}`\n",
    "\n",
    "As categories, we split the numbers between first and second half of the decade"
   ]
  },
  {
   "cell_type": "code",
   "execution_count": 4,
   "metadata": {},
   "outputs": [],
   "source": [
    "from roman_arabic_numerals import conv\n",
    "\n",
    "def get_label(num):\n",
    "    k = int(str(conv.rom_arab(num))[-1])\n",
    "    if k < 5:\n",
    "        return 'first'\n",
    "    else:\n",
    "        return 'second'"
   ]
  },
  {
   "cell_type": "code",
   "execution_count": 5,
   "metadata": {},
   "outputs": [
    {
     "data": {
      "text/plain": [
       "'first'"
      ]
     },
     "execution_count": 5,
     "metadata": {},
     "output_type": "execute_result"
    }
   ],
   "source": [
    "get_label('IV')"
   ]
  },
  {
   "cell_type": "code",
   "execution_count": 6,
   "metadata": {},
   "outputs": [],
   "source": [
    "sequences = data.sequence.values \n",
    "targets = data.target.values \n",
    "vocabulary = set()\n",
    "category_lines = {'first': [], 'second': []}\n",
    "for i, seq in enumerate(sequences):\n",
    "    n = seq.replace('_', '')\n",
    "    for c in n:\n",
    "        vocabulary.add(c)\n",
    "    category_lines[get_label(n)].append(n)\n",
    "vocabulary = sorted(list(vocabulary))\n",
    "categories = list(category_lines.keys())"
   ]
  },
  {
   "cell_type": "code",
   "execution_count": 7,
   "metadata": {},
   "outputs": [
    {
     "data": {
      "text/plain": [
       "['C', 'I', 'L', 'V', 'X']"
      ]
     },
     "execution_count": 7,
     "metadata": {},
     "output_type": "execute_result"
    }
   ],
   "source": [
    "vocabulary"
   ]
  },
  {
   "cell_type": "markdown",
   "metadata": {},
   "source": [
    "## Convert numbers in tensors\n",
    "Each character is represented using *One-Hot encoding*\n",
    "\n",
    "Turn a line into a `<line_length x 1 x n_letters>`"
   ]
  },
  {
   "cell_type": "code",
   "execution_count": 8,
   "metadata": {},
   "outputs": [],
   "source": [
    "import torch "
   ]
  },
  {
   "cell_type": "code",
   "execution_count": 9,
   "metadata": {},
   "outputs": [],
   "source": [
    "def num2tensor(num):\n",
    "    tensor = torch.zeros(len(num), 1, len(vocabulary))\n",
    "    for li, letter in enumerate(num):\n",
    "        tensor[li][0][vocabulary.index(letter)] = 1\n",
    "    return tensor"
   ]
  },
  {
   "cell_type": "code",
   "execution_count": 10,
   "metadata": {},
   "outputs": [
    {
     "data": {
      "text/plain": [
       "tensor([[[0., 0., 0., 0., 1.]],\n",
       "\n",
       "        [[0., 1., 0., 0., 0.]],\n",
       "\n",
       "        [[0., 1., 0., 0., 0.]]])"
      ]
     },
     "execution_count": 10,
     "metadata": {},
     "output_type": "execute_result"
    }
   ],
   "source": [
    "num2tensor('XII')"
   ]
  },
  {
   "cell_type": "markdown",
   "metadata": {},
   "source": [
    "## RNN from scratch"
   ]
  },
  {
   "cell_type": "code",
   "execution_count": 12,
   "metadata": {},
   "outputs": [],
   "source": [
    "import nlp.neurnets as nt "
   ]
  },
  {
   "cell_type": "code",
   "execution_count": 13,
   "metadata": {},
   "outputs": [],
   "source": [
    "input_size = len(vocabulary)\n",
    "n_hidden = 32\n",
    "output_size = len(categories)\n",
    "rnn = nt.RNN(input_size, n_hidden, output_size)"
   ]
  },
  {
   "cell_type": "markdown",
   "metadata": {},
   "source": [
    "### Prediction with no training"
   ]
  },
  {
   "cell_type": "code",
   "execution_count": 14,
   "metadata": {},
   "outputs": [
    {
     "name": "stdout",
     "output_type": "stream",
     "text": [
      "tensor([[-0.8330, -0.5704]])\n"
     ]
    }
   ],
   "source": [
    "input_example = num2tensor('IX')\n",
    "hidden_example = torch.zeros(1, n_hidden)\n",
    "with torch.no_grad():\n",
    "    output, next_hidden = rnn(input_example[0], hidden_example)\n",
    "    print(output)"
   ]
  },
  {
   "cell_type": "markdown",
   "metadata": {},
   "source": [
    "## Training"
   ]
  },
  {
   "cell_type": "code",
   "execution_count": 15,
   "metadata": {},
   "outputs": [],
   "source": [
    "import torch.nn as nn"
   ]
  },
  {
   "cell_type": "markdown",
   "metadata": {},
   "source": [
    "### Utility functions"
   ]
  },
  {
   "cell_type": "code",
   "execution_count": 16,
   "metadata": {},
   "outputs": [
    {
     "name": "stdout",
     "output_type": "stream",
     "text": [
      "('second', 1)\n"
     ]
    }
   ],
   "source": [
    "def read_categories(output):\n",
    "    top_n, top_i = output.topk(1)\n",
    "    category_i = top_i[0].item()\n",
    "    return categories[category_i], category_i\n",
    "\n",
    "print(read_categories(output))"
   ]
  },
  {
   "cell_type": "markdown",
   "metadata": {},
   "source": [
    "Random construction of a training set:"
   ]
  },
  {
   "cell_type": "code",
   "execution_count": 17,
   "metadata": {},
   "outputs": [],
   "source": [
    "def random_training_sample(embedding_function: callable):\n",
    "    category = np.random.choice(categories)\n",
    "    line = np.random.choice(category_lines[category])\n",
    "    category_tensor = torch.tensor([categories.index(category)], dtype=torch.long)\n",
    "    line_tensor = embedding_function(line)\n",
    "    return category, line, category_tensor, line_tensor"
   ]
  },
  {
   "cell_type": "code",
   "execution_count": 18,
   "metadata": {},
   "outputs": [
    {
     "name": "stdout",
     "output_type": "stream",
     "text": [
      "LX first\n",
      "XCII first\n",
      "CCV second\n",
      "CXXXIX second\n",
      "LV second\n",
      "CLXXIV first\n"
     ]
    }
   ],
   "source": [
    "for i in range(6):\n",
    "    c, n, _, _ = random_training_sample(num2tensor)\n",
    "    print(n, c)"
   ]
  },
  {
   "cell_type": "code",
   "execution_count": 19,
   "metadata": {},
   "outputs": [
    {
     "name": "stdout",
     "output_type": "stream",
     "text": [
      "['C', 'I', 'L', 'V', 'X']\n"
     ]
    }
   ],
   "source": [
    "print(vocabulary)"
   ]
  },
  {
   "cell_type": "markdown",
   "metadata": {},
   "source": [
    "## Training and error plot"
   ]
  },
  {
   "cell_type": "code",
   "execution_count": 20,
   "metadata": {},
   "outputs": [],
   "source": [
    "input_size = len(vocabulary)\n",
    "n_hidden = 16\n",
    "output_size = len(categories)\n",
    "rnn = nt.RNN(input_size, n_hidden, output_size)"
   ]
  },
  {
   "cell_type": "code",
   "execution_count": 21,
   "metadata": {},
   "outputs": [
    {
     "name": "stderr",
     "output_type": "stream",
     "text": [
      "  0%|          | 0/10000 [00:00<?, ?it/s]"
     ]
    },
    {
     "name": "stderr",
     "output_type": "stream",
     "text": [
      "100%|██████████| 10000/10000 [00:03<00:00, 2941.95it/s]\n"
     ]
    }
   ],
   "source": [
    "n_iterations = 10000\n",
    "plot_every = 100\n",
    "history = rnn.run_training(data_generator=random_training_sample, embedding_function=num2tensor, \n",
    "                        n_iterations=n_iterations, plot_every=plot_every)"
   ]
  },
  {
   "cell_type": "code",
   "execution_count": 22,
   "metadata": {},
   "outputs": [
    {
     "data": {
      "image/png": "[encoded data removed]",
      "text/plain": [
       "<Figure size 600x200 with 1 Axes>"
      ]
     },
     "metadata": {},
     "output_type": "display_data"
    }
   ],
   "source": [
    "fig, ax = plt.subplots(figsize=(6, 2))\n",
    "ax.plot(history)\n",
    "plt.tight_layout()\n",
    "plt.show()"
   ]
  },
  {
   "cell_type": "markdown",
   "metadata": {},
   "source": [
    "## Evaluation"
   ]
  },
  {
   "cell_type": "code",
   "execution_count": 23,
   "metadata": {},
   "outputs": [],
   "source": [
    "from sklearn.metrics import classification_report, confusion_matrix\n",
    "from collections import Counter "
   ]
  },
  {
   "cell_type": "code",
   "execution_count": 24,
   "metadata": {},
   "outputs": [
    {
     "name": "stdout",
     "output_type": "stream",
     "text": [
      "['second', 'second', 'first'] ['second', 'second', 'first']\n"
     ]
    }
   ],
   "source": [
    "n_test = 1000\n",
    "y_true, y_pred = [], []\n",
    "for i in range(n_test):\n",
    "    category, line, category_tensor, line_tensor = random_training_sample(num2tensor)\n",
    "    output = rnn.predict(line_tensor)\n",
    "    predicted_label, predicted_index = read_categories(output)\n",
    "    y_true.append(str(category))\n",
    "    y_pred.append(str(predicted_label))\n",
    "print(y_true[:3], y_pred[:3])"
   ]
  },
  {
   "cell_type": "code",
   "execution_count": 25,
   "metadata": {},
   "outputs": [
    {
     "name": "stdout",
     "output_type": "stream",
     "text": [
      "              precision    recall  f1-score   support\n",
      "\n",
      "       first       1.00      1.00      1.00       490\n",
      "      second       1.00      1.00      1.00       510\n",
      "\n",
      "    accuracy                           1.00      1000\n",
      "   macro avg       1.00      1.00      1.00      1000\n",
      "weighted avg       1.00      1.00      1.00      1000\n",
      "\n"
     ]
    }
   ],
   "source": [
    "print(classification_report(y_true, y_pred, zero_division=0))"
   ]
  },
  {
   "cell_type": "markdown",
   "metadata": {},
   "source": [
    "### Comparison with BOW\n",
    "Let's create a neural network that maps a BOW (One-Hot) representation of the sequence as a whole into a classes vector. Let's also use a hidden layer."
   ]
  },
  {
   "cell_type": "code",
   "execution_count": 26,
   "metadata": {},
   "outputs": [],
   "source": [
    "def num2bow(num):\n",
    "    tensor = torch.zeros(1, len(vocabulary))\n",
    "    for li, letter in enumerate(num):\n",
    "        tensor[0][vocabulary.index(letter)] += 1\n",
    "    return tensor"
   ]
  },
  {
   "cell_type": "code",
   "execution_count": 27,
   "metadata": {},
   "outputs": [],
   "source": [
    "input_dim = len(vocabulary)\n",
    "hidden_dim = 16\n",
    "output_dim = len(categories)\n",
    "learning_rate = 0.005\n",
    "bow = nt.FrequencyPredictor(input_dim, hidden_dim, output_dim)"
   ]
  },
  {
   "cell_type": "markdown",
   "metadata": {},
   "source": [
    "### Training"
   ]
  },
  {
   "cell_type": "code",
   "execution_count": 28,
   "metadata": {},
   "outputs": [
    {
     "name": "stderr",
     "output_type": "stream",
     "text": [
      "100%|██████████| 10000/10000 [00:01<00:00, 5504.00it/s]\n"
     ]
    }
   ],
   "source": [
    "n_iterations = 10000\n",
    "plot_every = 100\n",
    "history = bow.run_training(data_generator=random_training_sample, embedding_function=num2bow, \n",
    "                        n_iterations=n_iterations, plot_every=plot_every)"
   ]
  },
  {
   "cell_type": "code",
   "execution_count": 29,
   "metadata": {},
   "outputs": [
    {
     "data": {
      "image/png": "[encoded data removed]",
      "text/plain": [
       "<Figure size 600x200 with 1 Axes>"
      ]
     },
     "metadata": {},
     "output_type": "display_data"
    }
   ],
   "source": [
    "fig, ax = plt.subplots(figsize=(6, 2))\n",
    "ax.plot(history)\n",
    "plt.tight_layout()\n",
    "plt.show()"
   ]
  },
  {
   "cell_type": "code",
   "execution_count": 30,
   "metadata": {},
   "outputs": [
    {
     "name": "stdout",
     "output_type": "stream",
     "text": [
      "['first', 'second', 'first'] ['first', 'second', 'second']\n"
     ]
    }
   ],
   "source": [
    "n_test = 1000\n",
    "y_true, y_pred = [], []\n",
    "for i in range(n_test):\n",
    "    category, line, category_tensor, line_tensor = random_training_sample(num2bow)\n",
    "    output = bow.predict(line_tensor)\n",
    "    predicted_label, predicted_index = read_categories(output)\n",
    "    y_true.append(str(category))\n",
    "    y_pred.append(str(predicted_label))\n",
    "print(y_true[:3], y_pred[:3])"
   ]
  },
  {
   "cell_type": "code",
   "execution_count": 31,
   "metadata": {},
   "outputs": [
    {
     "name": "stdout",
     "output_type": "stream",
     "text": [
      "              precision    recall  f1-score   support\n",
      "\n",
      "       first       0.94      0.71      0.81       521\n",
      "      second       0.75      0.95      0.84       479\n",
      "\n",
      "    accuracy                           0.83      1000\n",
      "   macro avg       0.85      0.83      0.82      1000\n",
      "weighted avg       0.85      0.83      0.82      1000\n",
      "\n",
      "[[370 151]\n",
      " [ 23 456]]\n"
     ]
    }
   ],
   "source": [
    "print(classification_report(y_true, y_pred, zero_division=0))\n",
    "print(confusion_matrix(y_true, y_pred))"
   ]
  },
  {
   "cell_type": "markdown",
   "metadata": {},
   "source": [
    "## Fake RNN\n",
    "This network is identical to the RNN but it does not propagate the information in the hidden layer to the final layer."
   ]
  },
  {
   "cell_type": "code",
   "execution_count": 32,
   "metadata": {},
   "outputs": [],
   "source": [
    "input_size = len(vocabulary)\n",
    "n_hidden = 32\n",
    "output_size = len(categories)\n",
    "fake = nt.FakeRNN(input_size, n_hidden, output_size)"
   ]
  },
  {
   "cell_type": "code",
   "execution_count": 33,
   "metadata": {},
   "outputs": [
    {
     "name": "stdout",
     "output_type": "stream",
     "text": [
      "tensor([[-0.6029, -0.7924]])\n"
     ]
    }
   ],
   "source": [
    "input_example = num2tensor('IX')\n",
    "hidden_example = torch.zeros(1, n_hidden)\n",
    "with torch.no_grad():\n",
    "    output, next_hidden = fake(input_example[0], hidden_example)\n",
    "    print(output)"
   ]
  },
  {
   "cell_type": "code",
   "execution_count": 34,
   "metadata": {},
   "outputs": [
    {
     "name": "stderr",
     "output_type": "stream",
     "text": [
      "100%|██████████| 10000/10000 [00:02<00:00, 4329.62it/s]\n"
     ]
    }
   ],
   "source": [
    "n_iterations = 10000\n",
    "plot_every = 100\n",
    "history = fake.run_training(data_generator=random_training_sample, embedding_function=num2tensor, \n",
    "                        n_iterations=n_iterations, plot_every=plot_every)"
   ]
  },
  {
   "cell_type": "code",
   "execution_count": 35,
   "metadata": {},
   "outputs": [
    {
     "data": {
      "image/png": "[encoded data removed]",
      "text/plain": [
       "<Figure size 600x200 with 1 Axes>"
      ]
     },
     "metadata": {},
     "output_type": "display_data"
    }
   ],
   "source": [
    "fig, ax = plt.subplots(figsize=(6, 2))\n",
    "ax.plot(history)\n",
    "plt.tight_layout()\n",
    "plt.show()"
   ]
  },
  {
   "cell_type": "markdown",
   "metadata": {},
   "source": [
    "### Valutazione"
   ]
  },
  {
   "cell_type": "code",
   "execution_count": 36,
   "metadata": {},
   "outputs": [
    {
     "name": "stdout",
     "output_type": "stream",
     "text": [
      "['first', 'first', 'second'] ['second', 'second', 'second']\n"
     ]
    }
   ],
   "source": [
    "n_test = 1000\n",
    "y_true, y_pred = [], []\n",
    "for i in range(n_test):\n",
    "    category, line, category_tensor, line_tensor = random_training_sample(num2tensor)\n",
    "    output = fake.predict(line_tensor)\n",
    "    predicted_label, predicted_index = read_categories(output)\n",
    "    y_true.append(str(category))\n",
    "    y_pred.append(str(predicted_label))\n",
    "print(y_true[:3], y_pred[:3])"
   ]
  },
  {
   "cell_type": "code",
   "execution_count": 37,
   "metadata": {},
   "outputs": [
    {
     "name": "stdout",
     "output_type": "stream",
     "text": [
      "              precision    recall  f1-score   support\n",
      "\n",
      "       first       1.00      0.06      0.10       490\n",
      "      second       0.52      1.00      0.69       510\n",
      "\n",
      "    accuracy                           0.54      1000\n",
      "   macro avg       0.76      0.53      0.40      1000\n",
      "weighted avg       0.76      0.54      0.40      1000\n",
      "\n",
      "[[ 27 463]\n",
      " [  0 510]]\n"
     ]
    }
   ],
   "source": [
    "print(classification_report(y_true, y_pred, zero_division=0))\n",
    "print(confusion_matrix(y_true, y_pred))"
   ]
  },
  {
   "cell_type": "markdown",
   "metadata": {},
   "source": [
    "## Example"
   ]
  },
  {
   "cell_type": "code",
   "execution_count": 38,
   "metadata": {},
   "outputs": [
    {
     "name": "stdout",
     "output_type": "stream",
     "text": [
      "RNN VI second\n",
      "BOW VI second\n",
      "FAKE VI second\n",
      "RNN IV first\n",
      "BOW IV second\n",
      "FAKE IV second\n"
     ]
    }
   ],
   "source": [
    "example = ['VI', 'IV']\n",
    "models = [(num2tensor, rnn, 'RNN'), (num2bow, bow, 'BOW'), (num2tensor, fake, 'FAKE')]\n",
    "for n in example:\n",
    "    for f, m, name in models:\n",
    "        output = m.predict(f(n))\n",
    "        c, i = read_categories(output=output)\n",
    "        print(name, n, c)"
   ]
  },
  {
   "cell_type": "code",
   "execution_count": 39,
   "metadata": {},
   "outputs": [
    {
     "name": "stdout",
     "output_type": "stream",
     "text": [
      "BOW\n",
      "[[0.35797718 0.6420229 ]]\n",
      "[[0.35797718 0.6420229 ]]\n",
      "\n",
      "FAKE\n",
      "[[0.3774651  0.62253493]]\n",
      "[[0.3774651  0.62253493]]\n",
      "\n",
      "RNN\n",
      "[[8.5759626e-07 9.9999917e-01]]\n",
      "[[9.9992537e-01 7.4676216e-05]]\n"
     ]
    }
   ],
   "source": [
    "print(\"BOW\")\n",
    "with torch.no_grad():\n",
    "    print(np.exp(bow(num2bow('VI')).numpy()))\n",
    "    print(np.exp(bow(num2bow('IV')).numpy()))\n",
    "    \n",
    "print(\"\\nFAKE\")\n",
    "with torch.no_grad():\n",
    "    print(np.exp(fake.predict(num2tensor('X')).numpy()))\n",
    "    print(np.exp(fake.predict(num2tensor('IX')).numpy()))\n",
    "    \n",
    "print(\"\\nRNN\")\n",
    "with torch.no_grad():\n",
    "    print(np.exp(rnn.predict(num2tensor('VI')).numpy()))\n",
    "    print(np.exp(rnn.predict(num2tensor('IV')).numpy()))"
   ]
  },
  {
   "cell_type": "code",
   "execution_count": null,
   "metadata": {},
   "outputs": [],
   "source": []
  },
  {
   "cell_type": "code",
   "execution_count": null,
   "metadata": {},
   "outputs": [],
   "source": []
  }
 ],
 "metadata": {
  "kernelspec": {
   "display_name": "nlp",
   "language": "python",
   "name": "python3"
  },
  "language_info": {
   "codemirror_mode": {
    "name": "ipython",
    "version": 3
   },
   "file_extension": ".py",
   "mimetype": "text/x-python",
   "name": "python",
   "nbconvert_exporter": "python",
   "pygments_lexer": "ipython3",
   "version": "3.10.4"
  }
 },
 "nbformat": 4,
 "nbformat_minor": 2
}
