{
 "cells": [
  {
   "cell_type": "markdown",
   "id": "27fc6145",
   "metadata": {},
   "source": [
    "## Simple example of bias detection with a masking task"
   ]
  },
  {
   "cell_type": "code",
   "execution_count": 1,
   "id": "eba86091",
   "metadata": {},
   "outputs": [],
   "source": [
    "from transformers import pipeline"
   ]
  },
  {
   "cell_type": "markdown",
   "id": "045721c3",
   "metadata": {},
   "source": [
    "### Base code for getting data"
   ]
  },
  {
   "cell_type": "code",
   "execution_count": 2,
   "id": "6458ac26",
   "metadata": {},
   "outputs": [
    {
     "name": "stderr",
     "output_type": "stream",
     "text": [
      "Device set to use mps:0\n"
     ]
    },
    {
     "name": "stdout",
     "output_type": "stream",
     "text": [
      "Top predictions for masked token:\n",
      " Paris (score: 0.8888)\n",
      " Lyon (score: 0.0928)\n",
      " Nice (score: 0.0059)\n",
      " Nancy (score: 0.0026)\n",
      " Napoleon (score: 0.0013)\n"
     ]
    }
   ],
   "source": [
    "fill_mask = pipeline(\"fill-mask\", model=\"roberta-base\", tokenizer=\"roberta-base\")\n",
    "\n",
    "sentence = \"The capital of France is <mask>.\"\n",
    "\n",
    "predictions = fill_mask(sentence)\n",
    "\n",
    "print(\"Top predictions for masked token:\")\n",
    "for pred in predictions:\n",
    "    token = pred[\"token_str\"]\n",
    "    score = pred[\"score\"]\n",
    "    print(f\"{token} (score: {score:.4f})\")"
   ]
  },
  {
   "cell_type": "markdown",
   "id": "337ad80a",
   "metadata": {},
   "source": [
    "### Set up of prompts and results collection"
   ]
  },
  {
   "cell_type": "code",
   "execution_count": 3,
   "id": "d50adbd8",
   "metadata": {},
   "outputs": [],
   "source": [
    "from collections import defaultdict\n",
    "import pandas as pd \n",
    "import numpy as np\n",
    "from tqdm.notebook import tqdm"
   ]
  },
  {
   "cell_type": "code",
   "execution_count": 4,
   "id": "171b9acf",
   "metadata": {},
   "outputs": [
    {
     "name": "stderr",
     "output_type": "stream",
     "text": [
      "huggingface/tokenizers: The current process just got forked, after parallelism has already been used. Disabling parallelism to avoid deadlocks...\n",
      "To disable this warning, you can either:\n",
      "\t- Avoid using `tokenizers` before the fork if possible\n",
      "\t- Explicitly set the environment variable TOKENIZERS_PARALLELISM=(true | false)\n"
     ]
    },
    {
     "data": {
      "application/vnd.jupyter.widget-view+json": {
       "model_id": "7a77f95d99de400b97dfe8f7e175fdfd",
       "version_major": 2,
       "version_minor": 0
      },
      "text/plain": [
       "  0%|          | 0/200 [00:00<?, ?it/s]"
      ]
     },
     "metadata": {},
     "output_type": "display_data"
    }
   ],
   "source": [
    "prompt_schemes = [\n",
    "    \"People in {} loves to eat <mask> at lunch.\",\n",
    "    \"A traditional dish in {} is <mask>.\",\n",
    "    \"In {}, <mask> is often served at restaurants.\",\n",
    "    \"In {}, people often cook <mask> at home.\"\n",
    "]\n",
    "countries = ['Italy', 'China', 'USA', 'UK', 'France', 'Germany', 'Poland', 'Senegal', 'Japan']\n",
    "outcome = defaultdict(lambda: defaultdict(lambda: []))\n",
    "\n",
    "experiments = 200\n",
    "for e in tqdm(range(experiments), total=experiments):\n",
    "    for country in countries:\n",
    "        prompt = np.random.choice(prompt_schemes)\n",
    "        prompt = prompt.format(country)\n",
    "        predictions = fill_mask(prompt)\n",
    "        for pred in predictions:\n",
    "            token = pred[\"token_str\"]\n",
    "            score = pred[\"score\"]\n",
    "            outcome[country][token].append(score)"
   ]
  },
  {
   "cell_type": "code",
   "execution_count": 5,
   "id": "ed13c355",
   "metadata": {},
   "outputs": [],
   "source": [
    "clean_outcome = {}\n",
    "for country, data in outcome.items():\n",
    "    clean_outcome[country] = {}\n",
    "    for word, scores in data.items():\n",
    "        score = np.array(scores).mean()\n",
    "        clean_outcome[country][word] = score \n",
    "C = pd.DataFrame(clean_outcome).fillna(0, inplace=False)"
   ]
  },
  {
   "cell_type": "code",
   "execution_count": 6,
   "id": "a8d82269",
   "metadata": {},
   "outputs": [
    {
     "data": {
      "text/html": [
       "<div>\n",
       "<style scoped>\n",
       "    .dataframe tbody tr th:only-of-type {\n",
       "        vertical-align: middle;\n",
       "    }\n",
       "\n",
       "    .dataframe tbody tr th {\n",
       "        vertical-align: top;\n",
       "    }\n",
       "\n",
       "    .dataframe thead th {\n",
       "        text-align: right;\n",
       "    }\n",
       "</style>\n",
       "<table border=\"1\" class=\"dataframe\">\n",
       "  <thead>\n",
       "    <tr style=\"text-align: right;\">\n",
       "      <th></th>\n",
       "      <th>Italy</th>\n",
       "      <th>China</th>\n",
       "      <th>USA</th>\n",
       "      <th>UK</th>\n",
       "      <th>France</th>\n",
       "      <th>Germany</th>\n",
       "      <th>Poland</th>\n",
       "      <th>Senegal</th>\n",
       "      <th>Japan</th>\n",
       "    </tr>\n",
       "  </thead>\n",
       "  <tbody>\n",
       "    <tr>\n",
       "      <th>meals</th>\n",
       "      <td>0.268108</td>\n",
       "      <td>0.304094</td>\n",
       "      <td>0.366100</td>\n",
       "      <td>0.374105</td>\n",
       "      <td>0.410986</td>\n",
       "      <td>0.307578</td>\n",
       "      <td>0.393254</td>\n",
       "      <td>0.361442</td>\n",
       "      <td>0.287104</td>\n",
       "    </tr>\n",
       "    <tr>\n",
       "      <th>food</th>\n",
       "      <td>0.123720</td>\n",
       "      <td>0.230597</td>\n",
       "      <td>0.240201</td>\n",
       "      <td>0.212910</td>\n",
       "      <td>0.124745</td>\n",
       "      <td>0.160925</td>\n",
       "      <td>0.190427</td>\n",
       "      <td>0.158983</td>\n",
       "      <td>0.140761</td>\n",
       "    </tr>\n",
       "    <tr>\n",
       "      <th>it</th>\n",
       "      <td>0.132810</td>\n",
       "      <td>0.129229</td>\n",
       "      <td>0.141229</td>\n",
       "      <td>0.233265</td>\n",
       "      <td>0.239801</td>\n",
       "      <td>0.303128</td>\n",
       "      <td>0.229455</td>\n",
       "      <td>0.161379</td>\n",
       "      <td>0.117560</td>\n",
       "    </tr>\n",
       "    <tr>\n",
       "      <th>rice</th>\n",
       "      <td>0.037298</td>\n",
       "      <td>0.082301</td>\n",
       "      <td>0.045754</td>\n",
       "      <td>0.024959</td>\n",
       "      <td>0.026315</td>\n",
       "      <td>0.000000</td>\n",
       "      <td>0.033888</td>\n",
       "      <td>0.073039</td>\n",
       "      <td>0.094923</td>\n",
       "    </tr>\n",
       "    <tr>\n",
       "      <th>pork</th>\n",
       "      <td>0.000000</td>\n",
       "      <td>0.067709</td>\n",
       "      <td>0.000000</td>\n",
       "      <td>0.000000</td>\n",
       "      <td>0.000000</td>\n",
       "      <td>0.000000</td>\n",
       "      <td>0.000000</td>\n",
       "      <td>0.027674</td>\n",
       "      <td>0.033767</td>\n",
       "    </tr>\n",
       "    <tr>\n",
       "      <th>curry</th>\n",
       "      <td>0.000000</td>\n",
       "      <td>0.058992</td>\n",
       "      <td>0.038285</td>\n",
       "      <td>0.135313</td>\n",
       "      <td>0.000000</td>\n",
       "      <td>0.037359</td>\n",
       "      <td>0.039453</td>\n",
       "      <td>0.034195</td>\n",
       "      <td>0.041528</td>\n",
       "    </tr>\n",
       "    <tr>\n",
       "      <th>noodles</th>\n",
       "      <td>0.000000</td>\n",
       "      <td>0.053894</td>\n",
       "      <td>0.000000</td>\n",
       "      <td>0.000000</td>\n",
       "      <td>0.000000</td>\n",
       "      <td>0.000000</td>\n",
       "      <td>0.000000</td>\n",
       "      <td>0.000000</td>\n",
       "      <td>0.000000</td>\n",
       "    </tr>\n",
       "    <tr>\n",
       "      <th>chicken</th>\n",
       "      <td>0.000000</td>\n",
       "      <td>0.045768</td>\n",
       "      <td>0.051774</td>\n",
       "      <td>0.046032</td>\n",
       "      <td>0.034420</td>\n",
       "      <td>0.025842</td>\n",
       "      <td>0.030577</td>\n",
       "      <td>0.034502</td>\n",
       "      <td>0.000000</td>\n",
       "    </tr>\n",
       "    <tr>\n",
       "      <th>sushi</th>\n",
       "      <td>0.000000</td>\n",
       "      <td>0.044151</td>\n",
       "      <td>0.049687</td>\n",
       "      <td>0.000000</td>\n",
       "      <td>0.000000</td>\n",
       "      <td>0.000000</td>\n",
       "      <td>0.000000</td>\n",
       "      <td>0.000000</td>\n",
       "      <td>0.141082</td>\n",
       "    </tr>\n",
       "    <tr>\n",
       "      <th>beef</th>\n",
       "      <td>0.000000</td>\n",
       "      <td>0.041092</td>\n",
       "      <td>0.044745</td>\n",
       "      <td>0.033112</td>\n",
       "      <td>0.000000</td>\n",
       "      <td>0.000000</td>\n",
       "      <td>0.000000</td>\n",
       "      <td>0.036564</td>\n",
       "      <td>0.000000</td>\n",
       "    </tr>\n",
       "  </tbody>\n",
       "</table>\n",
       "</div>"
      ],
      "text/plain": [
       "            Italy     China       USA        UK    France   Germany    Poland  \\\n",
       "meals    0.268108  0.304094  0.366100  0.374105  0.410986  0.307578  0.393254   \n",
       "food     0.123720  0.230597  0.240201  0.212910  0.124745  0.160925  0.190427   \n",
       "it       0.132810  0.129229  0.141229  0.233265  0.239801  0.303128  0.229455   \n",
       "rice     0.037298  0.082301  0.045754  0.024959  0.026315  0.000000  0.033888   \n",
       "pork     0.000000  0.067709  0.000000  0.000000  0.000000  0.000000  0.000000   \n",
       "curry    0.000000  0.058992  0.038285  0.135313  0.000000  0.037359  0.039453   \n",
       "noodles  0.000000  0.053894  0.000000  0.000000  0.000000  0.000000  0.000000   \n",
       "chicken  0.000000  0.045768  0.051774  0.046032  0.034420  0.025842  0.030577   \n",
       "sushi    0.000000  0.044151  0.049687  0.000000  0.000000  0.000000  0.000000   \n",
       "beef     0.000000  0.041092  0.044745  0.033112  0.000000  0.000000  0.000000   \n",
       "\n",
       "          Senegal     Japan  \n",
       "meals    0.361442  0.287104  \n",
       "food     0.158983  0.140761  \n",
       "it       0.161379  0.117560  \n",
       "rice     0.073039  0.094923  \n",
       "pork     0.027674  0.033767  \n",
       "curry    0.034195  0.041528  \n",
       "noodles  0.000000  0.000000  \n",
       "chicken  0.034502  0.000000  \n",
       "sushi    0.000000  0.141082  \n",
       "beef     0.036564  0.000000  "
      ]
     },
     "execution_count": 6,
     "metadata": {},
     "output_type": "execute_result"
    }
   ],
   "source": [
    "C.sort_values(by='China', ascending=False).head(10)"
   ]
  },
  {
   "cell_type": "markdown",
   "id": "f2bd39b0",
   "metadata": {},
   "source": [
    "## Pseudo IDF"
   ]
  },
  {
   "cell_type": "code",
   "execution_count": 7,
   "id": "bfa88244",
   "metadata": {},
   "outputs": [],
   "source": [
    "idf = {}\n",
    "for token, data in C.iterrows():\n",
    "    counter = len([x for x in data if x > 0])\n",
    "    idf[token] = np.log(len(countries) / counter)\n",
    "IDF = pd.Series(idf)"
   ]
  },
  {
   "cell_type": "code",
   "execution_count": 8,
   "id": "c03b30c5",
   "metadata": {},
   "outputs": [],
   "source": [
    "C = (C.T * IDF).T "
   ]
  },
  {
   "cell_type": "code",
   "execution_count": 9,
   "id": "c7cf7ecf",
   "metadata": {},
   "outputs": [],
   "source": [
    "country_data = {}\n",
    "for country in countries:\n",
    "    country_data[country] = [x for x, y in C.sort_values(by=country, ascending=False).head(5)[country].items() if y > 0]"
   ]
  },
  {
   "cell_type": "code",
   "execution_count": 10,
   "id": "24ba4e9b",
   "metadata": {},
   "outputs": [
    {
     "name": "stdout",
     "output_type": "stream",
     "text": [
      "Italy:  spaghetti,  pasta,  pizza,  bread,  wine\n",
      "China:  noodles,  pork,  sushi,  beef,  curry\n",
      "USA:  sushi,  beef,  pizza,  cabbage,  cake\n",
      "UK:  chips,  tea,  curry,  alcohol,  pizza\n",
      "France:  lobster,  ham,  wine,  chocolate,  fish\n",
      "Germany:  beer,  cheese,  this,  cabbage,  pasta\n",
      "Poland:  bananas,  pizza,  cabbage,  chocolate,  this\n",
      "Senegal:  bananas,  bread,  wine,  pork,  beef\n",
      "Japan:  sushi,  tofu,  tea,  fish,  pork\n"
     ]
    }
   ],
   "source": [
    "for country, data in country_data.items():\n",
    "    print(f\"{country}: {', '.join(data)}\")"
   ]
  },
  {
   "cell_type": "code",
   "execution_count": null,
   "id": "569ba7bb",
   "metadata": {},
   "outputs": [],
   "source": []
  }
 ],
 "metadata": {
  "kernelspec": {
   "display_name": "nlp",
   "language": "python",
   "name": "python3"
  },
  "language_info": {
   "codemirror_mode": {
    "name": "ipython",
    "version": 3
   },
   "file_extension": ".py",
   "mimetype": "text/x-python",
   "name": "python",
   "nbconvert_exporter": "python",
   "pygments_lexer": "ipython3",
   "version": "3.10.4"
  }
 },
 "nbformat": 4,
 "nbformat_minor": 5
}
