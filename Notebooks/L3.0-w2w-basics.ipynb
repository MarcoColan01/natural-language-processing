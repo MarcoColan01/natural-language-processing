{
 "cells": [
  {
   "cell_type": "markdown",
   "metadata": {},
   "source": [
    "##### Master Degree in Computer Science and Data Science for Economics\n",
    "\n",
    "# Word2Vec\n",
    "## A toy example and from scratch implementation\n",
    "\n",
    "### Alfio Ferrara\n",
    "\n",
    "For the details about the model, see [wordvec.py](./nlp/wordvec.py)"
   ]
  },
  {
   "cell_type": "markdown",
   "metadata": {},
   "source": [
    "## A simple toy dataset\n",
    "Let's take a simple example with pseudo docs representing different weather conditions"
   ]
  },
  {
   "cell_type": "code",
   "execution_count": 1,
   "metadata": {},
   "outputs": [],
   "source": [
    "import json"
   ]
  },
  {
   "cell_type": "code",
   "execution_count": 9,
   "metadata": {},
   "outputs": [
    {
     "name": "stdout",
     "output_type": "stream",
     "text": [
      "mountains | snow | ice | peak | woods | cold\n",
      "beach | sand | sea | wave | sun | hot\n",
      "desert | dune | cactus | sand | sun | arid\n",
      "forest | tree | leaf | animal | rain | humidity\n",
      "river | water | fish | spring | current | bank\n",
      "sky | cloud | wind | rain | thunder | rainbow\n"
     ]
    }
   ],
   "source": [
    "with open('data/weather.json', 'r') as file_in:\n",
    "    data = json.load(file_in)\n",
    "weather = data['weather']\n",
    "for doc in weather:\n",
    "    print(\" | \".join(doc))"
   ]
  },
  {
   "cell_type": "markdown",
   "metadata": {},
   "source": [
    "## Create SkipGram dataloader"
   ]
  },
  {
   "cell_type": "code",
   "execution_count": 11,
   "metadata": {},
   "outputs": [],
   "source": [
    "import mongodb_scripts.wordbags as wb\n",
    "import pandas as pd\n",
    "import torch "
   ]
  },
  {
   "cell_type": "code",
   "execution_count": 12,
   "metadata": {},
   "outputs": [],
   "source": [
    "bow = wb.Bow(corpus=weather)\n",
    "data_loader, inputs, outputs = bow.one_hot_skip_gram_dataloader(window=2, batch=2)"
   ]
  },
  {
   "cell_type": "code",
   "execution_count": 13,
   "metadata": {},
   "outputs": [
    {
     "data": {
      "text/plain": [
       "mountains    1.0\n",
       "snow         0.0\n",
       "ice          0.0\n",
       "peak         0.0\n",
       "woods        0.0\n",
       "Name: 0, dtype: float32"
      ]
     },
     "execution_count": 13,
     "metadata": {},
     "output_type": "execute_result"
    }
   ],
   "source": [
    "readable_input = pd.DataFrame(inputs, columns=bow.vocabulary)\n",
    "readable_input.iloc[0].head()"
   ]
  },
  {
   "cell_type": "code",
   "execution_count": 14,
   "metadata": {},
   "outputs": [
    {
     "data": {
      "text/plain": [
       "mountains    0.0\n",
       "snow         1.0\n",
       "ice          1.0\n",
       "peak         0.0\n",
       "woods        0.0\n",
       "Name: 0, dtype: float32"
      ]
     },
     "execution_count": 14,
     "metadata": {},
     "output_type": "execute_result"
    }
   ],
   "source": [
    "readable_target = pd.DataFrame(outputs, columns=bow.vocabulary)\n",
    "readable_target.iloc[0].head()"
   ]
  },
  {
   "cell_type": "code",
   "execution_count": 15,
   "metadata": {},
   "outputs": [
    {
     "name": "stdout",
     "output_type": "stream",
     "text": [
      "Input: tensor([[1., 0., 0., 0., 0., 0., 0., 0., 0., 0., 0., 0., 0., 0., 0., 0., 0., 0.,\n",
      "         0., 0., 0., 0., 0., 0., 0., 0., 0., 0., 0., 0., 0., 0., 0.],\n",
      "        [0., 1., 0., 0., 0., 0., 0., 0., 0., 0., 0., 0., 0., 0., 0., 0., 0., 0.,\n",
      "         0., 0., 0., 0., 0., 0., 0., 0., 0., 0., 0., 0., 0., 0., 0.]])\n",
      "Target: tensor([[0., 1., 1., 0., 0., 0., 0., 0., 0., 0., 0., 0., 0., 0., 0., 0., 0., 0.,\n",
      "         0., 0., 0., 0., 0., 0., 0., 0., 0., 0., 0., 0., 0., 0., 0.],\n",
      "        [1., 0., 1., 1., 0., 0., 0., 0., 0., 0., 0., 0., 0., 0., 0., 0., 0., 0.,\n",
      "         0., 0., 0., 0., 0., 0., 0., 0., 0., 0., 0., 0., 0., 0., 0.]])\n"
     ]
    }
   ],
   "source": [
    "for x, y in data_loader:\n",
    "    print(f\"Input: {x}\")\n",
    "    print(f\"Target: {y}\")\n",
    "    break "
   ]
  },
  {
   "cell_type": "code",
   "execution_count": 16,
   "metadata": {},
   "outputs": [
    {
     "name": "stdout",
     "output_type": "stream",
     "text": [
      "['mountains'] ==> ['snow', 'ice']\n",
      "['snow'] ==> ['mountains', 'ice', 'peak']\n",
      "['ice'] ==> ['mountains', 'snow', 'peak', 'woods']\n",
      "['peak'] ==> ['snow', 'ice', 'woods', 'cold']\n",
      "['woods'] ==> ['ice', 'peak', 'cold']\n",
      "['cold'] ==> ['peak', 'woods']\n",
      "['beach'] ==> ['sand', 'sea']\n",
      "['sand'] ==> ['beach', 'sea', 'wave']\n",
      "['sea'] ==> ['beach', 'sand', 'wave', 'sun']\n",
      "['wave'] ==> ['sand', 'sea', 'sun', 'hot']\n",
      "['sun'] ==> ['sea', 'wave', 'hot']\n",
      "['hot'] ==> ['wave', 'sun']\n",
      "['desert'] ==> ['dune', 'cactus']\n",
      "['dune'] ==> ['sand', 'desert', 'cactus']\n"
     ]
    }
   ],
   "source": [
    "for i, (x, y) in enumerate(data_loader):\n",
    "    for batch_i in range(x.shape[0]):\n",
    "        x_indices = torch.where(x[batch_i] == 1)[0].numpy()\n",
    "        y_indices = torch.where(y[batch_i] == 1)[0].numpy()\n",
    "        input_word = f\"{[bow.idx2word[w_x] for w_x in x_indices]}\"\n",
    "        target_word = f\"{[bow.idx2word[w_y] for w_y in y_indices]}\"\n",
    "        print(f\"{input_word} ==> {target_word}\")\n",
    "    if i > 5:\n",
    "        break "
   ]
  },
  {
   "cell_type": "markdown",
   "metadata": {},
   "source": [
    "## Build and train a predictor"
   ]
  },
  {
   "cell_type": "code",
   "execution_count": 25,
   "metadata": {},
   "outputs": [],
   "source": [
    "from mongodb_scripts.wordvec import Word2WordPrediction, Word2VecModel\n",
    "from mongodb_scripts.w2w_readers import WordEmbeddings"
   ]
  },
  {
   "cell_type": "code",
   "execution_count": 26,
   "metadata": {},
   "outputs": [
    {
     "name": "stderr",
     "output_type": "stream",
     "text": [
      "100%|██████████| 150/150 [00:04<00:00, 30.68it/s]\n"
     ]
    },
    {
     "name": "stdout",
     "output_type": "stream",
     "text": [
      "10.489417446984184 9.712870253456963\n"
     ]
    }
   ],
   "source": [
    "w2w = Word2WordPrediction(input_dim=bow.size, hidden_dim=4)\n",
    "epochs = 150\n",
    "learning_rate = 0.01\n",
    "history = w2w.train(data_loader=data_loader, epochs=epochs, \n",
    "                    learning_rate=learning_rate)\n",
    "print(history[0], history[-1])"
   ]
  },
  {
   "cell_type": "markdown",
   "metadata": {},
   "source": [
    "### Predict next word"
   ]
  },
  {
   "cell_type": "code",
   "execution_count": 27,
   "metadata": {},
   "outputs": [],
   "source": [
    "model = WordEmbeddings(words=bow, model=w2w)"
   ]
  },
  {
   "cell_type": "code",
   "execution_count": 29,
   "metadata": {},
   "outputs": [
    {
     "data": {
      "text/plain": [
       "array([-2.769602 , -1.2435871,  2.3516686, -1.186087 ], dtype=float32)"
      ]
     },
     "execution_count": 29,
     "metadata": {},
     "output_type": "execute_result"
    }
   ],
   "source": [
    "model['desert']"
   ]
  },
  {
   "cell_type": "code",
   "execution_count": 34,
   "metadata": {},
   "outputs": [
    {
     "data": {
      "text/plain": [
       "peak       0.999479\n",
       "sea        0.000210\n",
       "snow       0.000172\n",
       "wind       0.000058\n",
       "woods      0.000043\n",
       "cold       0.000009\n",
       "ice        0.000005\n",
       "wave       0.000005\n",
       "arid       0.000004\n",
       "current    0.000003\n",
       "dtype: float32"
      ]
     },
     "execution_count": 34,
     "metadata": {},
     "output_type": "execute_result"
    }
   ],
   "source": [
    "query = 'snow'\n",
    "next_word = model.predict(query, topk=10)\n",
    "next_word"
   ]
  },
  {
   "cell_type": "markdown",
   "metadata": {},
   "source": [
    "### Generate text"
   ]
  },
  {
   "cell_type": "code",
   "execution_count": 35,
   "metadata": {},
   "outputs": [],
   "source": [
    "import numpy as np "
   ]
  },
  {
   "cell_type": "code",
   "execution_count": 41,
   "metadata": {},
   "outputs": [
    {
     "name": "stdout",
     "output_type": "stream",
     "text": [
      "desert dune desert dune desert dune sand\n"
     ]
    }
   ],
   "source": [
    "start = \"desert\"\n",
    "text = [start]\n",
    "for i in range(6):\n",
    "    p = model.predict(start)\n",
    "    next_word = np.random.choice(p.index.values, p=p.values / p.values.sum())\n",
    "    text.append(next_word)\n",
    "    start = next_word\n",
    "\n",
    "print(\" \".join(text))"
   ]
  },
  {
   "cell_type": "markdown",
   "metadata": {},
   "source": [
    "## Word Embeddings"
   ]
  },
  {
   "cell_type": "code",
   "execution_count": 48,
   "metadata": {},
   "outputs": [],
   "source": [
    "search = 'snow'"
   ]
  },
  {
   "cell_type": "code",
   "execution_count": 49,
   "metadata": {},
   "outputs": [
    {
     "data": {
      "text/plain": [
       "array([-1.8726522,  1.5556934, -1.6270999,  1.7152768], dtype=float32)"
      ]
     },
     "execution_count": 49,
     "metadata": {},
     "output_type": "execute_result"
    }
   ],
   "source": [
    "model[search]"
   ]
  },
  {
   "cell_type": "markdown",
   "metadata": {},
   "source": [
    "### Most similar"
   ]
  },
  {
   "cell_type": "code",
   "execution_count": 50,
   "metadata": {},
   "outputs": [
    {
     "data": {
      "text/plain": [
       "snow       1.000000\n",
       "cold       0.995192\n",
       "woods      0.993437\n",
       "ice        0.833641\n",
       "thunder    0.431302\n",
       "sky        0.425620\n",
       "cloud      0.410035\n",
       "beach      0.409956\n",
       "sun        0.405564\n",
       "peak       0.366269\n",
       "Name: snow, dtype: float32"
      ]
     },
     "execution_count": 50,
     "metadata": {},
     "output_type": "execute_result"
    }
   ],
   "source": [
    "model.most_similar(search, topk=10)"
   ]
  },
  {
   "cell_type": "markdown",
   "metadata": {},
   "source": [
    "### Visual map"
   ]
  },
  {
   "cell_type": "code",
   "execution_count": 51,
   "metadata": {},
   "outputs": [],
   "source": [
    "from sklearn.manifold import TSNE\n",
    "import matplotlib.pyplot as plt\n",
    "\n",
    "plt.style.use('seaborn-v0_8-dark-palette')"
   ]
  },
  {
   "cell_type": "code",
   "execution_count": 52,
   "metadata": {},
   "outputs": [
    {
     "name": "stderr",
     "output_type": "stream",
     "text": [
      "c:\\Users\\cola0\\AppData\\Local\\Programs\\Python\\Python313\\Lib\\site-packages\\joblib\\externals\\loky\\backend\\context.py:136: UserWarning: Could not find the number of physical cores for the following reason:\n",
      "[WinError 2] Impossibile trovare il file specificato\n",
      "Returning the number of logical cores instead. You can silence this warning by setting LOKY_MAX_CPU_COUNT to the number of cores you want to use.\n",
      "  warnings.warn(\n",
      "  File \"c:\\Users\\cola0\\AppData\\Local\\Programs\\Python\\Python313\\Lib\\site-packages\\joblib\\externals\\loky\\backend\\context.py\", line 257, in _count_physical_cores\n",
      "    cpu_info = subprocess.run(\n",
      "        \"wmic CPU Get NumberOfCores /Format:csv\".split(),\n",
      "        capture_output=True,\n",
      "        text=True,\n",
      "    )\n",
      "  File \"c:\\Users\\cola0\\AppData\\Local\\Programs\\Python\\Python313\\Lib\\subprocess.py\", line 554, in run\n",
      "    with Popen(*popenargs, **kwargs) as process:\n",
      "         ~~~~~^^^^^^^^^^^^^^^^^^^^^^\n",
      "  File \"c:\\Users\\cola0\\AppData\\Local\\Programs\\Python\\Python313\\Lib\\subprocess.py\", line 1039, in __init__\n",
      "    self._execute_child(args, executable, preexec_fn, close_fds,\n",
      "    ~~~~~~~~~~~~~~~~~~~^^^^^^^^^^^^^^^^^^^^^^^^^^^^^^^^^^^^^^^^^\n",
      "                        pass_fds, cwd, env,\n",
      "                        ^^^^^^^^^^^^^^^^^^^\n",
      "    ...<5 lines>...\n",
      "                        gid, gids, uid, umask,\n",
      "                        ^^^^^^^^^^^^^^^^^^^^^^\n",
      "                        start_new_session, process_group)\n",
      "                        ^^^^^^^^^^^^^^^^^^^^^^^^^^^^^^^^^\n",
      "  File \"c:\\Users\\cola0\\AppData\\Local\\Programs\\Python\\Python313\\Lib\\subprocess.py\", line 1554, in _execute_child\n",
      "    hp, ht, pid, tid = _winapi.CreateProcess(executable, args,\n",
      "                       ~~~~~~~~~~~~~~~~~~~~~^^^^^^^^^^^^^^^^^^\n",
      "                             # no special security\n",
      "                             ^^^^^^^^^^^^^^^^^^^^^\n",
      "    ...<4 lines>...\n",
      "                             cwd,\n",
      "                             ^^^^\n",
      "                             startupinfo)\n",
      "                             ^^^^^^^^^^^^\n"
     ]
    }
   ],
   "source": [
    "tsne = TSNE(n_components=2)\n",
    "vectors = model.vectors(bow.vocabulary)\n",
    "v2d = tsne.fit_transform(vectors)"
   ]
  },
  {
   "cell_type": "code",
   "execution_count": 53,
   "metadata": {},
   "outputs": [
    {
     "data": {
      "image/png": "[encoded data removed]",
      "text/plain": [
       "<Figure size 1200x500 with 1 Axes>"
      ]
     },
     "metadata": {},
     "output_type": "display_data"
    }
   ],
   "source": [
    "selected_words = bow.vocabulary\n",
    "indexes = [bow.word2idx[w] for w in selected_words]\n",
    "selected2d = v2d[indexes]\n",
    "\n",
    "fig, ax = plt.subplots(figsize=(12, 5))\n",
    "ax.scatter(selected2d[:,0], selected2d[:, 1])\n",
    "for i, w in enumerate(selected_words):\n",
    "    ax.text(selected2d[i][0] + .02, selected2d[i][1] + .02, w)\n",
    "plt.tight_layout()\n",
    "plt.show()"
   ]
  },
  {
   "cell_type": "markdown",
   "metadata": {},
   "source": [
    "### Clustering"
   ]
  },
  {
   "cell_type": "code",
   "execution_count": 70,
   "metadata": {},
   "outputs": [],
   "source": [
    "from sklearn.cluster import AffinityPropagation\n",
    "from collections import defaultdict\n",
    "import seaborn as sns"
   ]
  },
  {
   "cell_type": "code",
   "execution_count": 67,
   "metadata": {},
   "outputs": [
    {
     "name": "stderr",
     "output_type": "stream",
     "text": [
      "/Users/Flint/.pyenv/versions/nlp/lib/python3.10/site-packages/sklearn/utils/extmath.py:203: RuntimeWarning: divide by zero encountered in matmul\n",
      "  ret = a @ b\n",
      "/Users/Flint/.pyenv/versions/nlp/lib/python3.10/site-packages/sklearn/utils/extmath.py:203: RuntimeWarning: overflow encountered in matmul\n",
      "  ret = a @ b\n",
      "/Users/Flint/.pyenv/versions/nlp/lib/python3.10/site-packages/sklearn/utils/extmath.py:203: RuntimeWarning: invalid value encountered in matmul\n",
      "  ret = a @ b\n"
     ]
    }
   ],
   "source": [
    "ap = AffinityPropagation()\n",
    "assignments = ap.fit_predict(selected2d)\n",
    "clusters = defaultdict(list)\n",
    "for i, cluster in enumerate(assignments):\n",
    "    clusters[cluster].append(selected_words[i])"
   ]
  },
  {
   "cell_type": "code",
   "execution_count": 68,
   "metadata": {},
   "outputs": [
    {
     "name": "stdout",
     "output_type": "stream",
     "text": [
      "Cluster 0: mountains, snow, ice, peak, woods, cold\n",
      "Cluster 1: beach, sand, sea, wave, sun, hot, desert, dune, cactus, arid\n",
      "Cluster 3: forest, tree, leaf, animal, humidity, cloud, wind, thunder, rainbow\n",
      "Cluster 2: rain, river, water, fish, spring, current, bank, sky\n"
     ]
    }
   ],
   "source": [
    "for cluster, words in clusters.items():\n",
    "    print(f\"Cluster {cluster}: {', '.join(words)}\")"
   ]
  },
  {
   "cell_type": "code",
   "execution_count": 78,
   "metadata": {},
   "outputs": [
    {
     "data": {
      "image/png": "[encoded data removed]",
      "text/plain": [
       "<Figure size 1200x500 with 1 Axes>"
      ]
     },
     "metadata": {},
     "output_type": "display_data"
    }
   ],
   "source": [
    "dfsample = pd.DataFrame(selected2d)\n",
    "dfsample['word'] = selected_words\n",
    "dfsample['cluster'] = assignments\n",
    "\n",
    "\n",
    "fig, ax = plt.subplots(figsize=(12, 5))\n",
    "scatter = sns.scatterplot(\n",
    "    data=dfsample,\n",
    "    x=0,\n",
    "    y=1,\n",
    "    hue=\"cluster\",\n",
    "    s=80,\n",
    "    palette=\"tab10\",\n",
    "    legend=\"full\",\n",
    "    ax=ax,\n",
    "    alpha=0.4\n",
    ")\n",
    "for i in range(len(dfsample)):\n",
    "    plt.text(dfsample[0][i] + 0.01, dfsample[1][i], dfsample.word[i], fontsize=6)\n",
    "plt.tight_layout()\n",
    "plt.show()"
   ]
  },
  {
   "cell_type": "markdown",
   "metadata": {},
   "source": [
    "### Directions"
   ]
  },
  {
   "cell_type": "code",
   "execution_count": 79,
   "metadata": {},
   "outputs": [
    {
     "data": {
      "image/png": "[encoded data removed]",
      "text/plain": [
       "<Figure size 400x400 with 1 Axes>"
      ]
     },
     "metadata": {},
     "output_type": "display_data"
    }
   ],
   "source": [
    "def pointer(group, vectors):\n",
    "    g = vectors[[bow.word2idx[w] for w in group]]\n",
    "    return g.mean(axis=0)\n",
    "\n",
    "group1 = ['dune', 'beach', 'cactus', 'arid']\n",
    "group2 = ['snow', 'peak', 'mountains', 'ice']\n",
    "group3 = ['forest', 'tree', 'rain', 'humidity']\n",
    "g1 = pointer(group1, v2d)\n",
    "g2 = pointer(group2, v2d)\n",
    "g3 = pointer(group3, v2d)\n",
    "\n",
    "fig, ax = plt.subplots(figsize=(4, 4))\n",
    "ax.arrow(0, 0, g1[0], g1[1], head_width=0.05, head_length=0.05, fc='red', ec='red')\n",
    "ax.arrow(0, 0, g2[0], g2[1], head_width=0.05, head_length=0.05, fc='blue', ec='blue')\n",
    "ax.arrow(0, 0, g3[0], g3[1], head_width=0.05, head_length=0.05, fc='green', ec='green')\n",
    "plt.tight_layout()\n",
    "plt.show()"
   ]
  },
  {
   "cell_type": "markdown",
   "metadata": {},
   "source": [
    "## Compositionality"
   ]
  },
  {
   "cell_type": "code",
   "execution_count": 80,
   "metadata": {},
   "outputs": [
    {
     "data": {
      "text/plain": [
       "ice        0.815595\n",
       "desert     0.785126\n",
       "tree       0.480704\n",
       "forest     0.424127\n",
       "current    0.339083\n",
       "water      0.334556\n",
       "bank       0.301408\n",
       "river      0.255687\n",
       "sand       0.249882\n",
       "leaf       0.246754\n",
       "dtype: float32"
      ]
     },
     "execution_count": 80,
     "metadata": {},
     "output_type": "execute_result"
    }
   ],
   "source": [
    "model.search(positive=['desert'], negative=['dune'])"
   ]
  },
  {
   "cell_type": "code",
   "execution_count": 81,
   "metadata": {},
   "outputs": [
    {
     "name": "stdout",
     "output_type": "stream",
     "text": [
      "desert\n"
     ]
    }
   ],
   "source": [
    "answer, a_vector = model.analogy('sea', 'wave', 'desert')\n",
    "print(answer)"
   ]
  },
  {
   "cell_type": "code",
   "execution_count": 82,
   "metadata": {},
   "outputs": [
    {
     "data": {
      "text/plain": [
       "sea       0.864557\n",
       "sand      0.837144\n",
       "sun       0.813970\n",
       "cactus    0.761680\n",
       "wave      0.754710\n",
       "arid      0.743772\n",
       "beach     0.736226\n",
       "dune      0.711926\n",
       "desert    0.708149\n",
       "hot       0.680727\n",
       "dtype: float32"
      ]
     },
     "execution_count": 82,
     "metadata": {},
     "output_type": "execute_result"
    }
   ],
   "source": [
    "model.common_meanings(['sea', 'wave', 'desert', 'sand'])"
   ]
  },
  {
   "cell_type": "code",
   "execution_count": 83,
   "metadata": {},
   "outputs": [
    {
     "data": {
      "text/plain": [
       "sand         0.324577\n",
       "peak         0.800271\n",
       "mountains    0.853041\n",
       "snow         0.953163\n",
       "dtype: float32"
      ]
     },
     "execution_count": 83,
     "metadata": {},
     "output_type": "execute_result"
    }
   ],
   "source": [
    "model.spot_odd_one(words=['mountains', 'peak', 'snow', 'sand'])"
   ]
  },
  {
   "cell_type": "code",
   "execution_count": 84,
   "metadata": {},
   "outputs": [
    {
     "data": {
      "text/plain": [
       "hot          0.894703\n",
       "sand         0.794419\n",
       "sea          0.615217\n",
       "ice          0.580217\n",
       "forest       0.571776\n",
       "cold         0.472112\n",
       "snow         0.467531\n",
       "peak         0.318645\n",
       "woods        0.294215\n",
       "mountains    0.237444\n",
       "dtype: float32"
      ]
     },
     "execution_count": 84,
     "metadata": {},
     "output_type": "execute_result"
    }
   ],
   "source": [
    "model.search(positive=['sea'], negative=['wave'])"
   ]
  },
  {
   "cell_type": "code",
   "execution_count": 85,
   "metadata": {},
   "outputs": [
    {
     "data": {
      "text/plain": [
       "sea       0.996244\n",
       "sun       0.887281\n",
       "hot       0.883868\n",
       "sand      0.827786\n",
       "arid      0.739331\n",
       "wave      0.734820\n",
       "cactus    0.734778\n",
       "beach     0.709473\n",
       "dune      0.693254\n",
       "peak      0.457166\n",
       "dtype: float32"
      ]
     },
     "execution_count": 85,
     "metadata": {},
     "output_type": "execute_result"
    }
   ],
   "source": [
    "model.search(positive=['dune', 'sea'], negative=['wave'])"
   ]
  },
  {
   "cell_type": "code",
   "execution_count": null,
   "metadata": {},
   "outputs": [],
   "source": []
  }
 ],
 "metadata": {
  "kernelspec": {
   "display_name": "Python 3",
   "language": "python",
   "name": "python3"
  },
  "language_info": {
   "codemirror_mode": {
    "name": "ipython",
    "version": 3
   },
   "file_extension": ".py",
   "mimetype": "text/x-python",
   "name": "python",
   "nbconvert_exporter": "python",
   "pygments_lexer": "ipython3",
   "version": "3.13.7"
  }
 },
 "nbformat": 4,
 "nbformat_minor": 2
}
