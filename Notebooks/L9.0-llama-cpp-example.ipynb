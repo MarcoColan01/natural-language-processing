{
 "cells": [
  {
   "cell_type": "markdown",
   "id": "ec6d4039",
   "metadata": {},
   "source": [
    "##### Master Degree in Computer Science and Data Science for Economics\n",
    "\n",
    "# llama.cpp\n",
    "\n",
    "### Sergio Picascia\n",
    "\n",
    "The main goal of [llama.cpp](https://github.com/ggml-org/llama.cpp) is to enable LLM inference with minimal setup and state-of-the-art performance on a wide range of hardware - locally and in the cloud.\n",
    "\n",
    "[llama-cpp-python](https://github.com/abetlen/llama-cpp-python) is a simply Python bindings for llama.cpp. To install the package, run:\n",
    "```\n",
    "pip install llama-cpp-python\n",
    "```\n",
    "\n",
    "- To install with CUDA support, set the GGML_CUDA=on environment variable before installing:\n",
    "```\n",
    "CMAKE_ARGS=\"-DGGML_CUDA=on\" pip install llama-cpp-python\n",
    "```\n",
    "\n",
    "- To install with Metal (MPS), set the GGML_METAL=on environment variable before installing:\n",
    "```\n",
    "CMAKE_ARGS=\"-DGGML_METAL=on\" pip install llama-cpp-python\n",
    "```"
   ]
  },
  {
   "cell_type": "code",
   "execution_count": null,
   "id": "043477b8",
   "metadata": {},
   "outputs": [],
   "source": [
    "# Install llama-cpp-python with GPU support\n",
    "%pip install llama-cpp-python==0.2.90 --extra-index-url https://abetlen.github.io/llama-cpp-python/whl/cu122"
   ]
  },
  {
   "cell_type": "code",
   "execution_count": 1,
   "id": "7cab5331",
   "metadata": {},
   "outputs": [],
   "source": [
    "from llama_cpp import Llama"
   ]
  },
  {
   "cell_type": "code",
   "execution_count": null,
   "id": "ea725e2a",
   "metadata": {},
   "outputs": [],
   "source": [
    "# Load the model\n",
    "llm = Llama.from_pretrained(repo_id=\"bartowski/Meta-Llama-3.1-8B-Instruct-GGUF\", # repository name\n",
    "                            filename=\"Meta-Llama-3.1-8B-Instruct-Q8_0.gguf\", # model file\n",
    "                            n_gpu_layers=-1, # use all GPU layers\n",
    "                            n_ctx=32768, # context size\n",
    "                            flash_attn=True, # use flash attention\n",
    "                            chat_format=\"llama-3\", # chat format\n",
    "                            verbose=False)"
   ]
  },
  {
   "cell_type": "code",
   "execution_count": 3,
   "id": "3822cd1d",
   "metadata": {},
   "outputs": [],
   "source": [
    "# Output generation\n",
    "output = llm.create_chat_completion(\n",
    "        messages=[\n",
    "            {\n",
    "                \"role\": \"system\",\n",
    "                \"content\": \"You are a helpful assistant.\",\n",
    "            },\n",
    "            {\n",
    "                \"role\": \"user\",\n",
    "                \"content\": \"What are the planets of the solar system?\",\n",
    "            },\n",
    "        ],\n",
    "        temperature=0.7,\n",
    ")"
   ]
  },
  {
   "cell_type": "code",
   "execution_count": 4,
   "id": "14b2036e",
   "metadata": {},
   "outputs": [
    {
     "data": {
      "text/plain": [
       "{'id': 'chatcmpl-4febcd29-287f-45c1-be98-baa194c3f2f2',\n",
       " 'object': 'chat.completion',\n",
       " 'created': 1745305781,\n",
       " 'model': '/Users/sergiopicascia/.cache/huggingface/hub/models--bartowski--Meta-Llama-3.1-8B-Instruct-GGUF/snapshots/bf5b95e96dac0462e2a09145ec66cae9a3f12067/./Meta-Llama-3.1-8B-Instruct-Q8_0.gguf',\n",
       " 'choices': [{'index': 0,\n",
       "   'message': {'role': 'assistant',\n",
       "    'content': 'The planets of our solar system, in order from the Sun, are:\\n\\n1. Mercury\\n2. Venus\\n3. Earth\\n4. Mars\\n5. Jupiter\\n6. Saturn\\n7. Uranus\\n8. Neptune\\n\\nNote: Pluto was previously considered a planet, but in 2006 it was reclassified as a dwarf planet by the International Astronomical Union (IAU).\\n\\nHere\\'s a fun way to remember the order of the planets:\\n\\n\"Mary\\'s Violet Eyes Make Jeremy Stay Up Nights\"\\n\\nThe first letter of each word corresponds to the first letter of each planet\\'s name!\\n\\nWould you like to know more about any of the planets?'},\n",
       "   'logprobs': None,\n",
       "   'finish_reason': 'stop'}],\n",
       " 'usage': {'prompt_tokens': 30, 'completion_tokens': 134, 'total_tokens': 164}}"
      ]
     },
     "execution_count": 4,
     "metadata": {},
     "output_type": "execute_result"
    }
   ],
   "source": [
    "output"
   ]
  },
  {
   "cell_type": "code",
   "execution_count": 5,
   "id": "ad190d75",
   "metadata": {},
   "outputs": [
    {
     "data": {
      "text/plain": [
       "{'role': 'assistant',\n",
       " 'content': 'The planets of our solar system, in order from the Sun, are:\\n\\n1. Mercury\\n2. Venus\\n3. Earth\\n4. Mars\\n5. Jupiter\\n6. Saturn\\n7. Uranus\\n8. Neptune\\n\\nNote: Pluto was previously considered a planet, but in 2006 it was reclassified as a dwarf planet by the International Astronomical Union (IAU).\\n\\nHere\\'s a fun way to remember the order of the planets:\\n\\n\"Mary\\'s Violet Eyes Make Jeremy Stay Up Nights\"\\n\\nThe first letter of each word corresponds to the first letter of each planet\\'s name!\\n\\nWould you like to know more about any of the planets?'}"
      ]
     },
     "execution_count": 5,
     "metadata": {},
     "output_type": "execute_result"
    }
   ],
   "source": [
    "output[\"choices\"][0][\"message\"]"
   ]
  },
  {
   "cell_type": "code",
   "execution_count": 6,
   "id": "dbcd80e8",
   "metadata": {},
   "outputs": [],
   "source": [
    "output = llm.create_chat_completion(\n",
    "        messages=[\n",
    "            {\n",
    "                \"role\": \"system\",\n",
    "                \"content\": \"You are a helpful assistant.\",\n",
    "            },\n",
    "            {\n",
    "                \"role\": \"user\",\n",
    "                \"content\": \"Explain more easily the previous answer.\",\n",
    "            },\n",
    "        ],\n",
    "        temperature=0.7,\n",
    ")"
   ]
  },
  {
   "cell_type": "code",
   "execution_count": 7,
   "id": "448aef9e",
   "metadata": {},
   "outputs": [
    {
     "data": {
      "text/plain": [
       "{'role': 'assistant',\n",
       " 'content': \"Since I didn't give an answer previously, let's start fresh.\\n\\nYou asked me to explain something, but I didn't receive a specific question. Could you please ask me something, and I'll do my best to provide a clear and easy-to-understand explanation?\"}"
      ]
     },
     "execution_count": 7,
     "metadata": {},
     "output_type": "execute_result"
    }
   ],
   "source": [
    "# The model does not retain the context of the previous conversation, so we need to provide the context again.\n",
    "output[\"choices\"][0][\"message\"]"
   ]
  },
  {
   "cell_type": "code",
   "execution_count": 8,
   "id": "e4b7f7e3",
   "metadata": {},
   "outputs": [],
   "source": [
    "messages = [\n",
    "    {\n",
    "        \"role\": \"system\",\n",
    "        \"content\": \"You are a helpful assistant.\",\n",
    "    },\n",
    "    {\n",
    "        \"role\": \"user\",\n",
    "        \"content\": \"What are the planets of the solar system?\",\n",
    "    },\n",
    "]"
   ]
  },
  {
   "cell_type": "code",
   "execution_count": 9,
   "id": "96e7c0d9",
   "metadata": {},
   "outputs": [],
   "source": [
    "output = llm.create_chat_completion(\n",
    "        messages=messages,\n",
    "        temperature=0.7,\n",
    ")"
   ]
  },
  {
   "cell_type": "code",
   "execution_count": 10,
   "id": "ea2799c0",
   "metadata": {},
   "outputs": [
    {
     "data": {
      "text/plain": [
       "{'role': 'assistant',\n",
       " 'content': 'There are 8 planets in our solar system. Here they are in order from the Sun:\\n\\n1. Mercury\\n2. Venus\\n3. Earth\\n4. Mars\\n5. Jupiter\\n6. Saturn\\n7. Uranus\\n8. Neptune\\n\\nNote: Pluto was previously considered a planet, but in 2006 it was reclassified as a dwarf planet by the International Astronomical Union (IAU).\\n\\nWould you like to know more about any of these planets?'}"
      ]
     },
     "execution_count": 10,
     "metadata": {},
     "output_type": "execute_result"
    }
   ],
   "source": [
    "output[\"choices\"][0][\"message\"]"
   ]
  },
  {
   "cell_type": "code",
   "execution_count": 11,
   "id": "f4ab937f",
   "metadata": {},
   "outputs": [],
   "source": [
    "messages.append(output[\"choices\"][0][\"message\"])"
   ]
  },
  {
   "cell_type": "code",
   "execution_count": 12,
   "id": "e3668935",
   "metadata": {},
   "outputs": [],
   "source": [
    "messages.append({\"role\": \"user\", \"content\": \"Order the planets in inverse order.\",})"
   ]
  },
  {
   "cell_type": "code",
   "execution_count": 13,
   "id": "d84fba95",
   "metadata": {},
   "outputs": [],
   "source": [
    "output = llm.create_chat_completion(\n",
    "        messages=messages,\n",
    "        temperature=0.7,\n",
    ")"
   ]
  },
  {
   "cell_type": "code",
   "execution_count": 14,
   "id": "13560113",
   "metadata": {},
   "outputs": [
    {
     "data": {
      "text/plain": [
       "{'role': 'assistant',\n",
       " 'content': 'Here are the 8 planets in our solar system in reverse order from the Sun:\\n\\n1. Neptune\\n2. Uranus\\n3. Saturn\\n4. Jupiter\\n5. Mars\\n6. Earth\\n7. Venus\\n8. Mercury'}"
      ]
     },
     "execution_count": 14,
     "metadata": {},
     "output_type": "execute_result"
    }
   ],
   "source": [
    "output[\"choices\"][0][\"message\"]"
   ]
  },
  {
   "cell_type": "code",
   "execution_count": 15,
   "id": "1bf7494e",
   "metadata": {},
   "outputs": [
    {
     "data": {
      "text/plain": [
       "{'prompt_tokens': 144, 'completion_tokens': 49, 'total_tokens': 193}"
      ]
     },
     "execution_count": 15,
     "metadata": {},
     "output_type": "execute_result"
    }
   ],
   "source": [
    "# Number of tokens used\n",
    "output[\"usage\"]"
   ]
  },
  {
   "cell_type": "code",
   "execution_count": 16,
   "id": "f3078d91",
   "metadata": {},
   "outputs": [
    {
     "data": {
      "text/plain": [
       "[128000, 3923, 527, 279, 33975, 315, 279, 13238, 1887, 30]"
      ]
     },
     "execution_count": 16,
     "metadata": {},
     "output_type": "execute_result"
    }
   ],
   "source": [
    "# How the model tokenizes the input\n",
    "llm.tokenize(\"What are the planets of the solar system?\".encode(\"utf-8\"))"
   ]
  },
  {
   "cell_type": "code",
   "execution_count": 18,
   "id": "649cb4eb",
   "metadata": {},
   "outputs": [
    {
     "name": "stdout",
     "output_type": "stream",
     "text": [
      "There are 8 planets in our solar system. Here's a list of them in order from the Sun:\n",
      "\n",
      "1. Mercury\n",
      "2. Venus\n",
      "3. Earth\n",
      "4. Mars\n",
      "5. Jupiter\n",
      "6. Saturn\n",
      "7. Uranus\n",
      "8. Neptune\n",
      "\n",
      "Note: Pluto was previously considered a planet, but in 2006, it was reclassified as a dwarf planet by the International Astronomical Union (IAU).\n",
      "\n",
      "Would you like to know more about a specific planet or the solar system in general?"
     ]
    }
   ],
   "source": [
    "# Example of streaming output\n",
    "for output in llm.create_chat_completion(\n",
    "    messages=[\n",
    "        {\n",
    "            \"role\": \"system\",\n",
    "            \"content\": \"You are a helpful assistant.\",\n",
    "        },\n",
    "        {\n",
    "            \"role\": \"user\",\n",
    "            \"content\": \"What are the planets of the solar system?\",\n",
    "        },\n",
    "    ],\n",
    "    temperature=0.7,\n",
    "    stream=True,\n",
    "):\n",
    "    print(output[\"choices\"][0][\"delta\"].get(\"content\", \"\"), end=\"\")"
   ]
  },
  {
   "cell_type": "code",
   "execution_count": 20,
   "id": "bb5df4ce",
   "metadata": {},
   "outputs": [
    {
     "name": "stdout",
     "output_type": "stream",
     "text": [
      "There are 8 planets in our solar system, which are:\n",
      "\n",
      "1. Mercury\n",
      "2. Venus\n",
      "3. Earth\n",
      "4. Mars\n",
      "5. Jupiter\n",
      "6. Saturn\n",
      "7. Uranus\n",
      "8. Neptune\n",
      "\n",
      "Note: Pluto was previously considered a planet, but in 2006 it was reclassified as a dwarf planet by the International Astronomical Union (IAU).\n",
      "\n",
      "Here's a fun way to remember the order of the planets:\n",
      "\n",
      "\"My Very Excellent Mother Just Served Us Nachos\"\n",
      "\n",
      "M - Mercury\n",
      "V - Venus\n",
      "E - Earth\n",
      "M - Mars\n",
      "J - Jupiter\n",
      "S - Saturn\n",
      "U - Uranus\n",
      "N - Neptune\n",
      "\n",
      "I hope that helps!"
     ]
    }
   ],
   "source": [
    "# Set the temperature to 0 for deterministic output\n",
    "for output in llm.create_chat_completion(\n",
    "    messages=[\n",
    "        {\n",
    "            \"role\": \"system\",\n",
    "            \"content\": \"You are a helpful assistant.\",\n",
    "        },\n",
    "        {\n",
    "            \"role\": \"user\",\n",
    "            \"content\": \"What are the planets of the solar system?\",\n",
    "        },\n",
    "    ],\n",
    "    temperature=0,\n",
    "    stream=True,\n",
    "):\n",
    "    print(output[\"choices\"][0][\"delta\"].get(\"content\", \"\"), end=\"\")"
   ]
  },
  {
   "cell_type": "code",
   "execution_count": 25,
   "id": "e2ead6b2",
   "metadata": {},
   "outputs": [
    {
     "name": "stdout",
     "output_type": "stream",
     "text": [
      "{\n",
      "  \"planets\": [\n",
      "    {\n",
      "      \"name\": \"Mercury\",\n",
      "      \"order\": 1\n",
      "    },\n",
      "    {\n",
      "      \"name\": \"Venus\",\n",
      "      \"order\": 2\n",
      "    },\n",
      "    {\n",
      "      \"name\": \"Earth\",\n",
      "      \"order\": 3\n",
      "    },\n",
      "    {\n",
      "      \"name\": \"Mars\",\n",
      "      \"order\": 4\n",
      "    },\n",
      "    {\n",
      "      \"name\": \"Jupiter\",\n",
      "      \"order\": 5\n",
      "    },\n",
      "    {\n",
      "      \"name\": \"Saturn\",\n",
      "      \"order\": 6\n",
      "    },\n",
      "    {\n",
      "      \"name\": \"Uranus\",\n",
      "      \"order\": 7\n",
      "    },\n",
      "    {\n",
      "      \"name\": \"Neptune\",\n",
      "      \"order\": 8\n",
      "    }\n",
      "  ]\n",
      "}"
     ]
    }
   ],
   "source": [
    "# Enforce the output to be in JSON format\n",
    "for output in llm.create_chat_completion(\n",
    "    messages=[\n",
    "        {\n",
    "            \"role\": \"system\",\n",
    "            \"content\": \"You are a helpful assistant answering in JSON format.\",\n",
    "        },\n",
    "        {\n",
    "            \"role\": \"user\",\n",
    "            \"content\": \"What are the planets of the solar system?\",\n",
    "        },\n",
    "    ],\n",
    "    temperature=0.7,\n",
    "    stream=True,\n",
    "    response_format={\"type\": \"json_object\"},\n",
    "):\n",
    "    print(output[\"choices\"][0][\"delta\"].get(\"content\", \"\"), end=\"\")"
   ]
  },
  {
   "cell_type": "code",
   "execution_count": 26,
   "id": "d3c5bc4b",
   "metadata": {},
   "outputs": [
    {
     "name": "stdout",
     "output_type": "stream",
     "text": [
      "[{\"planet\": \"Mercury\", \"distance_from_sun\": 57.9}, {\"planet\": \"Venus\", \"distance_from_sun\": 108.2}, {\"planet\": \"Earth\", \"distance_from_sun\": 149.6}, {\"planet\": \"Mars\", \"distance_from_sun\": 227.9}, {\"planet\": \"Jupiter\", \"distance_from_sun\": 778.3}, {\"planet\": \"Saturn\", \"distance_from_sun\": 1426.7}, {\"planet\": \"Uranus\", \"distance_from_sun\": 2870.9}, {\"planet\": \"Neptune\", \"distance_from_sun\": 4497.0}]"
     ]
    }
   ],
   "source": [
    "# Enforce the output to follow a specific JSON schema\n",
    "for output in llm.create_chat_completion(\n",
    "    messages=[\n",
    "        {\n",
    "            \"role\": \"system\",\n",
    "            \"content\": \"You are a helpful assistant answering in JSON format.\",\n",
    "        },\n",
    "        {\n",
    "            \"role\": \"user\",\n",
    "            \"content\": \"What are the planets of the solar system?\",\n",
    "        },\n",
    "    ],\n",
    "    temperature=0.7,\n",
    "    stream=True,\n",
    "    response_format={\n",
    "        \"type\": \"json_object\",\n",
    "        \"schema\": {\n",
    "            \"type\": \"array\",\n",
    "            \"items\": {\n",
    "                \"type\": \"object\",\n",
    "                \"properties\": {\n",
    "                    \"planet\": {\"type\": \"string\"},\n",
    "                    \"distance_from_sun\": {\"type\": \"number\"}\n",
    "                    },\n",
    "                \"required\": [\"planet\", \"distance_from_sun\"]\n",
    "                }\n",
    "            }\n",
    "        }\n",
    "):\n",
    "    print(output[\"choices\"][0][\"delta\"].get(\"content\", \"\"), end=\"\")"
   ]
  },
  {
   "cell_type": "code",
   "execution_count": null,
   "id": "522d64b8",
   "metadata": {},
   "outputs": [],
   "source": []
  }
 ],
 "metadata": {
  "kernelspec": {
   "display_name": "agraria",
   "language": "python",
   "name": "python3"
  },
  "language_info": {
   "codemirror_mode": {
    "name": "ipython",
    "version": 3
   },
   "file_extension": ".py",
   "mimetype": "text/x-python",
   "name": "python",
   "nbconvert_exporter": "python",
   "pygments_lexer": "ipython3",
   "version": "3.11.5"
  }
 },
 "nbformat": 4,
 "nbformat_minor": 5
}
