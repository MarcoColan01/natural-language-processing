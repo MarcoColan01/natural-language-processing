{
 "cells": [
  {
   "cell_type": "markdown",
   "id": "8af592e8",
   "metadata": {},
   "source": [
    "## CAV explanation on text"
   ]
  },
  {
   "cell_type": "code",
   "execution_count": 1,
   "id": "a70db43b",
   "metadata": {},
   "outputs": [],
   "source": [
    "import torch\n",
    "from transformers import AutoModel, AutoTokenizer"
   ]
  },
  {
   "cell_type": "markdown",
   "id": "360fc9c9",
   "metadata": {},
   "source": [
    "### Concepts"
   ]
  },
  {
   "cell_type": "code",
   "execution_count": 2,
   "id": "28df6ca0",
   "metadata": {},
   "outputs": [],
   "source": [
    "cooking = [\n",
    "    \"Heat a non-stick pan with a drizzle of oil and add the chopped onion, letting it brown over medium heat.\",\n",
    "    \"Add the peeled tomatoes, adjust the salt, and let cook at low heat for 15 minutes in the oven.\",\n",
    "    \"Bring a pot of salted water to a boil, cook the pasta until al dente, and drain it directly into the prepared sauce.\"\n",
    "]\n",
    "\n",
    "preparation = [\n",
    "    \"Finely chop the parsley and garlic, then set them aside in a bowl.\",\n",
    "    \"Cut the vegetables into evenly sized cubes to ensure uniform cooking.\",\n",
    "    \"Beat the eggs with a fork until you get a smooth mixture, then add a pinch of salt.\"\n",
    "]\n",
    "\n",
    "ingredients = [\n",
    "    \"400 grams of chicken breast, 2 zucchinis, 1 garlic clove.\",\n",
    "    \"3 eggs, 100 grams of butter, a pinch of salt.\",\n",
    "    \"250 ml of milk, 50 grams of cocoa powder, 1 teaspoon of vanilla extract.\"\n",
    "]"
   ]
  },
  {
   "cell_type": "markdown",
   "id": "3f6280bb",
   "metadata": {},
   "source": [
    "## Get model activations"
   ]
  },
  {
   "cell_type": "code",
   "execution_count": 3,
   "id": "918f189b",
   "metadata": {},
   "outputs": [],
   "source": [
    "model_name = \"bert-base-uncased\"\n",
    "tokenizer = AutoTokenizer.from_pretrained(model_name)\n",
    "model = AutoModel.from_pretrained(model_name)\n",
    "model.eval()  \n",
    "\n",
    "def get_activations(texts):\n",
    "    inputs = tokenizer(texts, padding=True, truncation=True, max_length=128, return_tensors=\"pt\")\n",
    "    with torch.no_grad():\n",
    "        outputs = model(**inputs)\n",
    "        return outputs.last_hidden_state.mean(dim=1).numpy()  # Mean across tokens\n",
    "\n",
    "cooking_activations = get_activations(cooking)\n",
    "preparation_activations = get_activations(preparation)\n",
    "ingredients_activations = get_activations(ingredients)"
   ]
  },
  {
   "cell_type": "markdown",
   "id": "f3a025cd",
   "metadata": {},
   "source": [
    "## Find a linear boundary between examples"
   ]
  },
  {
   "cell_type": "code",
   "execution_count": 4,
   "id": "0ff576f1",
   "metadata": {},
   "outputs": [],
   "source": [
    "from sklearn.linear_model import LogisticRegression\n",
    "import numpy as np\n",
    "\n",
    "X = np.vstack([cooking_activations, preparation_activations, ingredients_activations])\n",
    "y = np.array([0] * len(cooking_activations) + [1] * len(preparation_activations) + [2] * len(ingredients_activations))\n",
    "\n",
    "cav_classifier = LogisticRegression().fit(X, y)\n",
    "cav_cottura = cav_classifier.coef_[0]\n",
    "cav_preparazione = cav_classifier.coef_[1]\n",
    "cav_ingredienti = cav_classifier.coef_[2]\n"
   ]
  },
  {
   "cell_type": "markdown",
   "id": "011c6bee",
   "metadata": {},
   "source": [
    "## Compute concept importance"
   ]
  },
  {
   "cell_type": "code",
   "execution_count": 7,
   "id": "2b9cc61b",
   "metadata": {},
   "outputs": [
    {
     "name": "stdout",
     "output_type": "stream",
     "text": [
      "cooking: 0.7030524984789631\n",
      "preparation: 0.09999056806400607\n",
      "ingredients: -0.8030430665429442\n"
     ]
    }
   ],
   "source": [
    "def concept_importance(input_text):\n",
    "    activations = get_activations([input_text])\n",
    "    cottura_rel = np.dot(activations, cav_cottura)\n",
    "    preparazione_rel = np.dot(activations, cav_preparazione)\n",
    "    ingredienti_rel = np.dot(activations, cav_ingredienti)\n",
    "    return np.array([cottura_rel, preparazione_rel, ingredienti_rel])\n",
    "\n",
    "c_example = \"boil water and add salt. Use a pan to heat oil.\"\n",
    "p_example = \"cut onions in slices, stage the flavor in a cup\"\n",
    "i_example = \"300 g of tomato sauce, 10 grams of olive oil\"\n",
    "x_example = \"go in computer settings and set up an update of the os\"\n",
    "\n",
    "out = concept_importance(x_example)\n",
    "\n",
    "labels = ['cooking', 'preparation', 'ingredients']\n",
    "for i, x in enumerate(out):\n",
    "    print(f\"{labels[i]}: {x[0]}\")"
   ]
  },
  {
   "cell_type": "code",
   "execution_count": null,
   "id": "bc24ec15",
   "metadata": {},
   "outputs": [],
   "source": []
  }
 ],
 "metadata": {
  "kernelspec": {
   "display_name": "nlp",
   "language": "python",
   "name": "python3"
  },
  "language_info": {
   "codemirror_mode": {
    "name": "ipython",
    "version": 3
   },
   "file_extension": ".py",
   "mimetype": "text/x-python",
   "name": "python",
   "nbconvert_exporter": "python",
   "pygments_lexer": "ipython3",
   "version": "3.10.4"
  }
 },
 "nbformat": 4,
 "nbformat_minor": 5
}
