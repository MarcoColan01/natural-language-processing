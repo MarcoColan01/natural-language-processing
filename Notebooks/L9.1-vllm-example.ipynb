{
 "cells": [
  {
   "cell_type": "markdown",
   "id": "5cbedf8e",
   "metadata": {},
   "source": [
    "##### Master Degree in Computer Science and Data Science for Economics\n",
    "\n",
    "# vLLM\n",
    "\n",
    "### Sergio Picascia\n",
    "\n",
    "[vLLM](https://github.com/vllm-project/vllm) is a fast and easy-to-use library for LLM inference and serving."
   ]
  },
  {
   "cell_type": "code",
   "execution_count": null,
   "id": "44c989d8",
   "metadata": {},
   "outputs": [],
   "source": [
    "%pip install vllm"
   ]
  },
  {
   "cell_type": "code",
   "execution_count": 7,
   "id": "adb053fa",
   "metadata": {},
   "outputs": [],
   "source": [
    "from vllm import LLM, SamplingParams\n",
    "from qwen_vl_utils import process_vision_info\n",
    "from transformers import AutoProcessor\n",
    "import torch"
   ]
  },
  {
   "cell_type": "code",
   "execution_count": null,
   "id": "a79ffe07",
   "metadata": {},
   "outputs": [],
   "source": [
    "DEVICE = (\n",
    "    \"cuda:0\"\n",
    "    if torch.cuda.is_available()\n",
    "    else \"mps\" if torch.backends.mps.is_available() else \"cpu\"\n",
    ")\n",
    "MODEL_PATH = \"Qwen/Qwen2.5-VL-7B-Instruct-AWQ\""
   ]
  },
  {
   "cell_type": "code",
   "execution_count": 9,
   "id": "946495f6",
   "metadata": {},
   "outputs": [
    {
     "name": "stdout",
     "output_type": "stream",
     "text": [
      "INFO 04-22 07:16:43 [config.py:689] This model supports multiple tasks: {'score', 'classify', 'generate', 'reward', 'embed'}. Defaulting to 'generate'.\n",
      "INFO 04-22 07:16:43 [awq_marlin.py:114] The model is convertible to awq_marlin during runtime. Using awq_marlin kernel.\n",
      "INFO 04-22 07:16:43 [config.py:1901] Chunked prefill is enabled with max_num_batched_tokens=2048.\n",
      "INFO 04-22 07:16:44 [core.py:61] Initializing a V1 LLM engine (v0.8.4) with config: model='Qwen/Qwen2.5-VL-7B-Instruct-AWQ', speculative_config=None, tokenizer='Qwen/Qwen2.5-VL-7B-Instruct-AWQ', skip_tokenizer_init=False, tokenizer_mode=auto, revision=None, override_neuron_config=None, tokenizer_revision=None, trust_remote_code=False, dtype=torch.bfloat16, max_seq_len=8192, download_dir=None, load_format=auto, tensor_parallel_size=1, pipeline_parallel_size=1, disable_custom_all_reduce=False, quantization=awq_marlin, enforce_eager=False, kv_cache_dtype=auto,  device_config=cuda:1, decoding_config=DecodingConfig(guided_decoding_backend='auto', reasoning_backend=None), observability_config=ObservabilityConfig(show_hidden_metrics=False, otlp_traces_endpoint=None, collect_model_forward_time=False, collect_model_execute_time=False), seed=None, served_model_name=Qwen/Qwen2.5-VL-7B-Instruct-AWQ, num_scheduler_steps=1, multi_step_stream_outputs=True, enable_prefix_caching=True, chunked_prefill_enabled=True, use_async_output_proc=True, disable_mm_preprocessor_cache=False, mm_processor_kwargs=None, pooler_config=None, compilation_config={\"level\":3,\"custom_ops\":[\"none\"],\"splitting_ops\":[\"vllm.unified_attention\",\"vllm.unified_attention_with_output\"],\"use_inductor\":true,\"compile_sizes\":[],\"use_cudagraph\":true,\"cudagraph_num_of_warmups\":1,\"cudagraph_capture_sizes\":[512,504,496,488,480,472,464,456,448,440,432,424,416,408,400,392,384,376,368,360,352,344,336,328,320,312,304,296,288,280,272,264,256,248,240,232,224,216,208,200,192,184,176,168,160,152,144,136,128,120,112,104,96,88,80,72,64,56,48,40,32,24,16,8,4,2,1],\"max_capture_size\":512}\n",
      "WARNING 04-22 07:16:44 [utils.py:2444] Methods determine_num_available_blocks,device_config,get_cache_block_size_bytes,initialize_cache not implemented in <vllm.v1.worker.gpu_worker.Worker object at 0x7767246d1750>\n",
      "INFO 04-22 07:16:45 [parallel_state.py:959] rank 0 in world size 1 is assigned as DP rank 0, PP rank 0, TP rank 0\n",
      "INFO 04-22 07:16:45 [cuda.py:221] Using Flash Attention backend on V1 engine.\n"
     ]
    },
    {
     "name": "stderr",
     "output_type": "stream",
     "text": [
      "Using a slow image processor as `use_fast` is unset and a slow processor was saved with this model. `use_fast=True` will be the default behavior in v4.52, even if the model was saved with a slow processor. This will result in minor differences in outputs. You'll still be able to use a slow processor with `use_fast=False`.\n"
     ]
    },
    {
     "name": "stdout",
     "output_type": "stream",
     "text": [
      "INFO 04-22 07:16:48 [gpu_model_runner.py:1276] Starting to load model Qwen/Qwen2.5-VL-7B-Instruct-AWQ...\n",
      "INFO 04-22 07:16:48 [config.py:3466] cudagraph sizes specified by model runner [1, 2, 4, 8, 16, 24, 32, 40, 48, 56, 64, 72, 80, 88, 96, 104, 112, 120, 128, 136, 144, 152, 160, 168, 176, 184, 192, 200, 208, 216, 224, 232, 240, 248, 256, 264, 272, 280, 288, 296, 304, 312, 320, 328, 336, 344, 352, 360, 368, 376, 384, 392, 400, 408, 416, 424, 432, 440, 448, 456, 464, 472, 480, 488, 496, 504, 512] is overridden by config [512, 384, 256, 128, 4, 2, 1, 392, 264, 136, 8, 400, 272, 144, 16, 408, 280, 152, 24, 416, 288, 160, 32, 424, 296, 168, 40, 432, 304, 176, 48, 440, 312, 184, 56, 448, 320, 192, 64, 456, 328, 200, 72, 464, 336, 208, 80, 472, 344, 216, 88, 120, 480, 352, 248, 224, 96, 488, 504, 360, 232, 104, 496, 368, 240, 112, 376]\n",
      "WARNING 04-22 07:16:48 [topk_topp_sampler.py:69] FlashInfer is not available. Falling back to the PyTorch-native implementation of top-p & top-k sampling. For the best performance, please install FlashInfer.\n",
      "INFO 04-22 07:16:48 [weight_utils.py:265] Using model weights format ['*.safetensors']\n"
     ]
    },
    {
     "name": "stderr",
     "output_type": "stream",
     "text": [
      "Loading safetensors checkpoint shards:   0% Completed | 0/2 [00:00<?, ?it/s]\n",
      "Loading safetensors checkpoint shards:  50% Completed | 1/2 [00:00<00:00,  1.85it/s]\n",
      "Loading safetensors checkpoint shards: 100% Completed | 2/2 [00:02<00:00,  1.45s/it]\n",
      "Loading safetensors checkpoint shards: 100% Completed | 2/2 [00:02<00:00,  1.32s/it]\n",
      "\n"
     ]
    },
    {
     "name": "stdout",
     "output_type": "stream",
     "text": [
      "INFO 04-22 07:16:52 [loader.py:458] Loading weights took 2.73 seconds\n",
      "INFO 04-22 07:16:52 [gpu_model_runner.py:1291] Model loading took 6.5947 GiB and 3.862872 seconds\n",
      "INFO 04-22 07:16:53 [gpu_model_runner.py:1560] Encoder cache will be initialized with a budget of 16384 tokens, and profiled with 1 image items of the maximum feature size.\n",
      "INFO 04-22 07:17:03 [backends.py:416] Using cache directory: /home/serusr01/.cache/vllm/torch_compile_cache/b89ccceadd/rank_0_0 for vLLM's torch.compile\n",
      "INFO 04-22 07:17:03 [backends.py:426] Dynamo bytecode transform time: 7.61 s\n",
      "INFO 04-22 07:17:07 [backends.py:132] Cache the graph of shape None for later use\n",
      "INFO 04-22 07:17:34 [backends.py:144] Compiling a graph for general shape takes 30.01 s\n",
      "INFO 04-22 07:17:50 [monitor.py:33] torch.compile takes 37.62 s in total\n",
      "INFO 04-22 07:17:51 [kv_cache_utils.py:634] GPU KV cache size: 329,312 tokens\n",
      "INFO 04-22 07:17:51 [kv_cache_utils.py:637] Maximum concurrency for 8,192 tokens per request: 40.20x\n",
      "INFO 04-22 07:18:23 [gpu_model_runner.py:1626] Graph capturing finished in 32 secs, took 0.74 GiB\n",
      "INFO 04-22 07:18:23 [core.py:163] init engine (profile, create kv cache, warmup model) took 90.52 seconds\n",
      "INFO 04-22 07:18:23 [core_client.py:435] Core engine process 0 ready.\n"
     ]
    }
   ],
   "source": [
    "model = LLM(\n",
    "    model=MODEL_PATH,\n",
    "    enforce_eager=False, \n",
    "    max_model_len=8192,\n",
    "    device=DEVICE,\n",
    "    gpu_memory_utilization=0.3,\n",
    "    limit_mm_per_prompt={\"video\": 0, \"image\": 1},\n",
    "    max_num_batched_tokens=2048,\n",
    "    max_num_seqs=64,\n",
    "    enable_prefix_caching=True,\n",
    "    enable_chunked_prefill=True,\n",
    ")\n",
    "processor = AutoProcessor.from_pretrained(MODEL_PATH, use_fast=True)\n",
    "sampling_params = SamplingParams(\n",
    "    temperature=0,\n",
    "    max_tokens=4096,\n",
    ")"
   ]
  },
  {
   "cell_type": "code",
   "execution_count": 10,
   "id": "4475fdba",
   "metadata": {},
   "outputs": [],
   "source": [
    "messages = [\n",
    "    {\"role\": \"system\", \"content\": \"You are a helpful assistant.\"},\n",
    "    {\n",
    "        \"role\": \"user\",\n",
    "        \"content\": [\n",
    "            {\n",
    "                \"type\": \"image\",\n",
    "                \"image\": \"https://redpandanetwork.org/get/files/image/galleries/28138502587_a0a020ae9a_k.jpeg\",\n",
    "                \"min_pixels\": 224 * 224,\n",
    "                \"max_pixels\": 1280 * 28 * 28,\n",
    "            },\n",
    "            {\"type\": \"text\", \"text\": \"Describe the image.\"},\n",
    "        ],\n",
    "    },\n",
    "]"
   ]
  },
  {
   "cell_type": "code",
   "execution_count": 11,
   "id": "ebad73b6",
   "metadata": {},
   "outputs": [],
   "source": [
    "prompt = processor.apply_chat_template(\n",
    "                messages, tokenize=False, add_generation_prompt=True\n",
    "            )\n",
    "image_inputs, _ = process_vision_info(messages)\n",
    "llm_inputs = {\n",
    "    \"prompt\": prompt,\n",
    "    \"multi_modal_data\": {\"image\": image_inputs},\n",
    "}"
   ]
  },
  {
   "cell_type": "code",
   "execution_count": 12,
   "id": "832f345d",
   "metadata": {},
   "outputs": [
    {
     "name": "stderr",
     "output_type": "stream",
     "text": [
      "Using a slow image processor as `use_fast` is unset and a slow processor was saved with this model. `use_fast=True` will be the default behavior in v4.52, even if the model was saved with a slow processor. This will result in minor differences in outputs. You'll still be able to use a slow processor with `use_fast=False`.\n",
      "Processed prompts: 100%|██████████| 1/1 [00:01<00:00,  1.14s/it, est. speed input: 1117.17 toks/s, output: 99.24 toks/s]\n"
     ]
    }
   ],
   "source": [
    "output = model.generate([llm_inputs], sampling_params=sampling_params)"
   ]
  },
  {
   "cell_type": "code",
   "execution_count": 14,
   "id": "33f219f7",
   "metadata": {},
   "outputs": [
    {
     "data": {
      "text/plain": [
       "\"The image shows a red panda, also known as a lesser panda or a red cat-bear, perched on a tree branch. The red panda has a distinctive coat with a mix of black, white, and reddish-brown fur. Its face is predominantly white with a black nose and a white muzzle. The red panda's ears are upright and rounded, and its eyes are dark and expressive. The background is a blurred green, suggesting a natural, forested environment. The red panda appears to be in a relaxed state, possibly observing its surroundings.\""
      ]
     },
     "execution_count": 14,
     "metadata": {},
     "output_type": "execute_result"
    }
   ],
   "source": [
    "output[0].outputs[0].text"
   ]
  },
  {
   "cell_type": "code",
   "execution_count": null,
   "id": "24116b58",
   "metadata": {},
   "outputs": [],
   "source": []
  }
 ],
 "metadata": {
  "kernelspec": {
   "display_name": "italianparlament",
   "language": "python",
   "name": "python3"
  },
  "language_info": {
   "codemirror_mode": {
    "name": "ipython",
    "version": 3
   },
   "file_extension": ".py",
   "mimetype": "text/x-python",
   "name": "python",
   "nbconvert_exporter": "python",
   "pygments_lexer": "ipython3",
   "version": "3.11.5"
  }
 },
 "nbformat": 4,
 "nbformat_minor": 5
}
