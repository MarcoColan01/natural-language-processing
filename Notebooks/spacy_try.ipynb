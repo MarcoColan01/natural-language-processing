{
 "cells": [
  {
   "cell_type": "code",
   "execution_count": 16,
   "id": "6d861a9e",
   "metadata": {},
   "outputs": [],
   "source": [
    "import spacy\n",
    "nlp = spacy.load(\"it_core_news_lg\")"
   ]
  },
  {
   "cell_type": "code",
   "execution_count": 17,
   "id": "df9ea753",
   "metadata": {},
   "outputs": [
    {
     "data": {
      "text/plain": [
       "I Chiurli Bomberz, a seguito dell’esonero del vecchio allenatore, subiscono un’altra pesante sconfitta: 4 a 2 contro i Lino Banfield, continuando a inseguire invano quei tre punti tanto ambiti. Dopo 4 giornate e ancora 0 punti, la domanda che i tifosi si pongono è una sola: chi è il responsabile di questa disfatta? La curva non ha dubbi. Serve un cambio repentino, perché la pazienza è finita e il dito è puntato sui giocatori che non stanno rendendo. Potrà la pausa nazionali portare alla rinascita della squadra ?"
      ]
     },
     "execution_count": 17,
     "metadata": {},
     "output_type": "execute_result"
    }
   ],
   "source": [
    "text = (\"I Chiurli Bomberz, a seguito dell’esonero del vecchio allenatore, subiscono un’altra pesante sconfitta: 4 a 2 contro i Lino Banfield, continuando a inseguire invano quei tre punti tanto ambiti. Dopo 4 giornate e ancora 0 punti, la domanda che i tifosi si pongono è una sola: chi è il responsabile di questa disfatta? La curva non ha dubbi. Serve un cambio repentino, perché la pazienza è finita e il dito è puntato sui giocatori che non stanno rendendo. Potrà la pausa nazionali portare alla rinascita della squadra ?\")\n",
    "doc = nlp(text)\n",
    "doc"
   ]
  },
  {
   "cell_type": "code",
   "execution_count": 18,
   "id": "aa6ee43b",
   "metadata": {},
   "outputs": [
    {
     "name": "stdout",
     "output_type": "stream",
     "text": [
      "Noun phrases: ['seguito', 'esonero', 'vecchio allenatore', 'un’altra pesante sconfitta', 'i Lino Banfield', 'quei tre punti', 'tanto ambiti', '4 giornate', 'ancora 0 punti', 'la domanda', 'i tifosi', 'chi', 'il responsabile', 'questa disfatta', 'La curva', 'dubbi', 'un cambio repentino', 'la pazienza', 'il dito', 'giocatori', 'che', 'la pausa nazionali', 'rinascita', 'squadra']\n",
      "Verbs: ['Chiurli', 'subire', 'continuare', 'inseguire', 'pongere', 'avere', 'Serve', 'finire', 'puntare', 'rendere', 'portare']\n"
     ]
    }
   ],
   "source": [
    "print(\"Noun phrases:\", [chunk.text for chunk in doc.noun_chunks])\n",
    "print(\"Verbs:\", [token.lemma_ for token in doc if token.pos_ == \"VERB\"])"
   ]
  },
  {
   "cell_type": "code",
   "execution_count": 19,
   "id": "0929e19f",
   "metadata": {},
   "outputs": [
    {
     "name": "stdout",
     "output_type": "stream",
     "text": [
      "Chiurli Bomberz LOC\n",
      "Lino Banfield PER\n"
     ]
    }
   ],
   "source": [
    "for entity in doc.ents:\n",
    "    print(entity.text, entity.label_)"
   ]
  }
 ],
 "metadata": {
  "kernelspec": {
   "display_name": "Python 3",
   "language": "python",
   "name": "python3"
  },
  "language_info": {
   "codemirror_mode": {
    "name": "ipython",
    "version": 3
   },
   "file_extension": ".py",
   "mimetype": "text/x-python",
   "name": "python",
   "nbconvert_exporter": "python",
   "pygments_lexer": "ipython3",
   "version": "3.13.7"
  }
 },
 "nbformat": 4,
 "nbformat_minor": 5
}
