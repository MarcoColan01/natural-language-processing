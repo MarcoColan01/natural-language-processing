{
 "cells": [
  {
   "cell_type": "markdown",
   "id": "c1fd4dfb",
   "metadata": {},
   "source": [
    "##### Master Degree in Computer Science and Data Science for Economics\n",
    "\n",
    "# MLX LM\n",
    "\n",
    "### Sergio Picascia\n",
    "\n",
    "[MLX LM](https://github.com/ml-explore/mlx-lm)  is a Python package for generating text and fine-tuning large language models on Apple silicon with MLX."
   ]
  },
  {
   "cell_type": "code",
   "execution_count": null,
   "id": "2f4b5991",
   "metadata": {},
   "outputs": [],
   "source": [
    "%pip install mlx-lm"
   ]
  },
  {
   "cell_type": "code",
   "execution_count": 1,
   "id": "21a2fa5e",
   "metadata": {},
   "outputs": [
    {
     "name": "stderr",
     "output_type": "stream",
     "text": [
      "/Users/sergiopicascia/.pyenv/versions/3.11.5/envs/bgrules/lib/python3.11/site-packages/tqdm/auto.py:21: TqdmWarning: IProgress not found. Please update jupyter and ipywidgets. See https://ipywidgets.readthedocs.io/en/stable/user_install.html\n",
      "  from .autonotebook import tqdm as notebook_tqdm\n"
     ]
    }
   ],
   "source": [
    "from mlx_lm import load, generate"
   ]
  },
  {
   "cell_type": "code",
   "execution_count": 2,
   "id": "cd930fcf",
   "metadata": {},
   "outputs": [
    {
     "name": "stderr",
     "output_type": "stream",
     "text": [
      "Fetching 6 files: 100%|██████████| 6/6 [13:55<00:00, 139.30s/it]\n"
     ]
    }
   ],
   "source": [
    "model, tokenizer = load(\"mlx-community/Meta-Llama-3.1-8B-Instruct-4bit\")"
   ]
  },
  {
   "cell_type": "code",
   "execution_count": 3,
   "id": "3a03c778",
   "metadata": {},
   "outputs": [
    {
     "name": "stdout",
     "output_type": "stream",
     "text": [
      "==========\n"
     ]
    },
    {
     "name": "stderr",
     "output_type": "stream",
     "text": [
      "mx.metal.set_wired_limt is deprecated and will be removed in a future version. Use mx.set_wired_limit instead.\n"
     ]
    },
    {
     "name": "stdout",
     "output_type": "stream",
     "text": [
      "There are eight planets in our solar system. They are:\n",
      "\n",
      "1. Mercury"
     ]
    },
    {
     "name": "stderr",
     "output_type": "stream",
     "text": [
      "mx.metal.get_peak_memory is deprecated and will be removed in a future version. Use mx.get_peak_memory instead.\n",
      "mx.metal.clear_cache is deprecated and will be removed in a future version. Use mx.clear_cache instead.\n"
     ]
    },
    {
     "name": "stdout",
     "output_type": "stream",
     "text": [
      ": The closest planet to the sun, Mercury is a small, rocky world with a highly eccentric orbit.\n",
      "\n",
      "2. Venus: Often called Earth's twin due to its similar size and mass, Venus is a scorching hot planet with a thick atmosphere that traps heat.\n",
      "\n",
      "3. Earth: Our home planet, Earth is a terrestrial world with a diverse range of environments and life forms.\n",
      "\n",
      "4. Mars: A rocky planet with a thin atmosphere, Mars is a potential candidate for supporting life and has been the subject of numerous robotic missions.\n",
      "\n",
      "5. Jupiter: The largest planet in our solar system, Jupiter is a gas giant with massive storms and a system of moons.\n",
      "\n",
      "6. Saturn: Another gas giant, Saturn is known for its stunning ring system and numerous moons.\n",
      "\n",
      "7. Uranus: An icy planet with a tilted axis, Uranus is a distant world with a thin atmosphere and a system of moons.\n",
      "\n",
      "8. Neptune: The farthest planet from the sun, Neptune is a cold, icy world with strong winds and a system of moons.\n",
      "\n",
      "Note: Pluto was previously considered a planet but was reclassified as a dwarf planet in 2006 by the International Astronomical Union (IAU).\n",
      "==========\n",
      "Prompt: 44 tokens, 85.860 tokens-per-sec\n",
      "Generation: 256 tokens, 74.028 tokens-per-sec\n",
      "Peak memory: 4.646 GB\n"
     ]
    }
   ],
   "source": [
    "prompt = \"What are the planets of the solar system?\"\n",
    "\n",
    "messages = [{\"role\": \"user\", \"content\": prompt}]\n",
    "prompt = tokenizer.apply_chat_template(\n",
    "    messages, add_generation_prompt=True\n",
    ")\n",
    "\n",
    "text = generate(model, tokenizer, prompt=prompt, verbose=True)"
   ]
  },
  {
   "cell_type": "code",
   "execution_count": null,
   "id": "94c1e6b6",
   "metadata": {},
   "outputs": [],
   "source": []
  }
 ],
 "metadata": {
  "kernelspec": {
   "display_name": "bgrules",
   "language": "python",
   "name": "python3"
  },
  "language_info": {
   "codemirror_mode": {
    "name": "ipython",
    "version": 3
   },
   "file_extension": ".py",
   "mimetype": "text/x-python",
   "name": "python",
   "nbconvert_exporter": "python",
   "pygments_lexer": "ipython3",
   "version": "3.11.5"
  }
 },
 "nbformat": 4,
 "nbformat_minor": 5
}
