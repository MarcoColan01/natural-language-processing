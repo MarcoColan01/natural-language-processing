{
 "cells": [
  {
   "cell_type": "markdown",
   "id": "ad1bc778",
   "metadata": {},
   "source": [
    "##### Master Degree in Computer Science and Data Science for Economics\n",
    "\n",
    "# Prompt Engineering\n",
    "\n",
    "### Alfio Ferrara"
   ]
  },
  {
   "cell_type": "markdown",
   "id": "df6857c4",
   "metadata": {},
   "source": [
    "For an introduction see\n",
    "> Schulhoff, S., Ilie, M., Balepur, N., Kahadze, K., Liu, A., Si, C., ... & Resnik, P. (2024). The prompt report: A systematic survey of prompting techniques. arXiv preprint arXiv:2406.06608, 5."
   ]
  },
  {
   "cell_type": "markdown",
   "id": "5db703da",
   "metadata": {},
   "source": [
    "## Options to interact with LLMs\n",
    "-  Cloud APIs (e.g., OpenAI, Anthropic)\n",
    "    - They are tipically easy-to-use but not always free. Data are processed online in cloud.\n",
    "- Hugging Face Transformers (or other libraries)\n",
    "    - Multiple models are available, and provides a complete control over the pipeline. Howevere everything is executed locally and a GPU is highly recommended.\n",
    "- Runtime interfaces\n",
    "    - There are multiple options, such as [llama.cpp](https://github.com/ggml-org/llama.cpp), [ollama](https://ollama.com/), [vllm](https://github.com/vllm-project/vllm)\n",
    "    - They support multiple models and both local and remote execution"
   ]
  },
  {
   "cell_type": "markdown",
   "id": "61385813",
   "metadata": {},
   "source": [
    "### A first example (using huggingface)\n",
    "\n",
    "Sometimes a authentication token is required. See [https://huggingface.co/settings/tokens](https://huggingface.co/settings/tokens)"
   ]
  },
  {
   "cell_type": "code",
   "execution_count": 1,
   "id": "53f58203",
   "metadata": {},
   "outputs": [],
   "source": [
    "import json\n",
    "from huggingface_hub import login"
   ]
  },
  {
   "cell_type": "code",
   "execution_count": 3,
   "id": "ea64a2bc",
   "metadata": {},
   "outputs": [],
   "source": [
    "with open('/Users/Flint/Data/apikeys/keys.json', 'r') as infile:\n",
    "    token = json.load(infile)['huggingface']\n",
    "\n",
    "login(token=token)"
   ]
  },
  {
   "cell_type": "code",
   "execution_count": 4,
   "id": "baf40078",
   "metadata": {},
   "outputs": [
    {
     "name": "stdout",
     "output_type": "stream",
     "text": [
      "Loading model... This may take a few minutes the first time.\n"
     ]
    },
    {
     "data": {
      "application/vnd.jupyter.widget-view+json": {
       "model_id": "90185659504f4950a948c74c9ae7ad57",
       "version_major": 2,
       "version_minor": 0
      },
      "text/plain": [
       "Loading checkpoint shards:   0%|          | 0/8 [00:00<?, ?it/s]"
      ]
     },
     "metadata": {},
     "output_type": "display_data"
    },
    {
     "name": "stderr",
     "output_type": "stream",
     "text": [
      "Setting `pad_token_id` to `eos_token_id`:2 for open-end generation.\n"
     ]
    },
    {
     "name": "stdout",
     "output_type": "stream",
     "text": [
      "Generating...\n",
      "\n",
      "Zephyr's response:\n",
      "\n",
      "<|system|>You are a helpful assistant.<|user|>What is prompt engineering?<|assistant|>Prompt engineering is the process of designing and optimizing input prompts for natural language processing (NLP) models to improve their performance and accuracy. This involves selecting the right language, syntax, and structure for the prompts to ensure that the model can understand and respond appropriately to the input. Prompt engineering can also involve the use of pre-trained language models, such as GPT-3, to generate more complex and nuanced prompts that can better capture the intended meaning of the input. Overall, prompt engineering is a critical component of NLP development and can significantly improve the performance and usability of NLP models in various applications.\n"
     ]
    }
   ],
   "source": [
    "from transformers import AutoTokenizer, AutoModelForCausalLM\n",
    "import torch\n",
    "\n",
    "torch.set_default_device(\"mps\")\n",
    "\n",
    "model_id = \"HuggingFaceH4/zephyr-7b-alpha\"\n",
    "\n",
    "print(\"Loading model... This may take a few minutes the first time.\")\n",
    "tokenizer = AutoTokenizer.from_pretrained(model_id)\n",
    "model = AutoModelForCausalLM.from_pretrained(model_id, torch_dtype=torch.float32)  # MPS does not support float16\n",
    "\n",
    "prompt = \"<|system|>You are a helpful assistant.<|user|>What is prompt engineering?<|assistant|>\"\n",
    "\n",
    "inputs = tokenizer(prompt, return_tensors=\"pt\")\n",
    "inputs = {k: v.to(\"mps\") for k, v in inputs.items()}  # Sposta tutto su MPS\n",
    "\n",
    "print(\"Generating...\")\n",
    "outputs = model.generate(**inputs, max_new_tokens=200)\n",
    "\n",
    "response = tokenizer.decode(outputs[0], skip_special_tokens=True)\n",
    "print(\"\\nZephyr's response:\\n\")\n",
    "print(response)\n"
   ]
  },
  {
   "cell_type": "markdown",
   "id": "2fc28c1b",
   "metadata": {},
   "source": [
    "## Using APIs"
   ]
  },
  {
   "cell_type": "code",
   "execution_count": 5,
   "id": "93e2185a",
   "metadata": {},
   "outputs": [
    {
     "name": "stdout",
     "output_type": "stream",
     "text": [
      "Prompt engineering is the process of designing and creating effective prompts or cues to encourage specific behaviors or actions. It involves strategically presenting information or stimuli to guide individuals towards a desired outcome or response. This could be used in various contexts such as marketing, education, or behavior change interventions.\n"
     ]
    }
   ],
   "source": [
    "from openai import OpenAI\n",
    "\n",
    "with open('/Users/Flint/Data/apikeys/keys.json', 'r') as infile:\n",
    "    apikey = json.load(infile)['openai']\n",
    "\n",
    "client = OpenAI(api_key=apikey)\n",
    "\n",
    "messages = [\n",
    "    {\"role\": \"system\", \"content\": \"You are a helpful assistant.\"},\n",
    "    {\"role\": \"user\", \"content\": \"What is prompt engineering in simple terms?\"}\n",
    "]\n",
    "\n",
    "response = client.chat.completions.create(\n",
    "    model=\"gpt-3.5-turbo\",\n",
    "    messages=messages,\n",
    "    max_tokens=300,\n",
    "    temperature=0.7\n",
    ")\n",
    "\n",
    "print(response.choices[0].message.content)"
   ]
  },
  {
   "cell_type": "markdown",
   "id": "da2d038f",
   "metadata": {},
   "source": [
    "## Instruction + context + output format"
   ]
  },
  {
   "cell_type": "code",
   "execution_count": 6,
   "id": "266276aa",
   "metadata": {},
   "outputs": [],
   "source": [
    "def askgpt(messages, temperature=0.7):\n",
    "    response = client.chat.completions.create(\n",
    "        model=\"gpt-3.5-turbo\",\n",
    "        messages=messages,\n",
    "        temperature=temperature)\n",
    "    return response.choices[0].message.content"
   ]
  },
  {
   "cell_type": "markdown",
   "id": "75091ca2",
   "metadata": {},
   "source": [
    "**Generic and non-informative prompt**"
   ]
  },
  {
   "cell_type": "code",
   "execution_count": 7,
   "id": "ef540cb1",
   "metadata": {},
   "outputs": [
    {
     "name": "stdout",
     "output_type": "stream",
     "text": [
      "Classic Chocolate Chip Cookies\n",
      "\n",
      "Ingredients:\n",
      "- 1 cup unsalted butter, softened\n",
      "- 1 cup granulated sugar\n",
      "- 1 cup brown sugar\n",
      "- 2 large eggs\n",
      "- 1 tsp vanilla extract\n",
      "- 3 cups all-purpose flour\n",
      "- 1 tsp baking soda\n",
      "- 1/2 tsp salt\n",
      "- 2 cups semi-sweet chocolate chips\n",
      "\n",
      "Instructions:\n",
      "1. Preheat oven to 350°F (180°C) and line a baking sheet with parchment paper.\n",
      "2. In a large mixing bowl, cream together the butter, granulated sugar, and brown sugar until light and fluffy.\n",
      "3. Add in the eggs one at a time, beating well after each addition. Stir in the vanilla extract.\n",
      "4. In a separate bowl, whisk together the flour, baking soda, and salt. Gradually add the dry ingredients to the wet ingredients, mixing until just combined.\n",
      "5. Fold in the chocolate chips until evenly distributed throughout the dough.\n",
      "6. Using a cookie scoop or spoon, drop rounded tablespoons of dough onto the prepared baking sheet, spacing them about 2 inches apart.\n",
      "7. Bake in the preheated oven for 10-12 minutes, or until the edges are lightly golden brown.\n",
      "8. Allow the cookies to cool on the baking sheet for a few minutes before transferring them to a wire rack to cool completely.\n",
      "9. Enjoy your classic chocolate chip cookies with a glass of milk!\n"
     ]
    }
   ],
   "source": [
    "messages = [\n",
    "    {\"role\": \"user\", \"content\": \"Write a recipe.\"}\n",
    "]\n",
    "answer = askgpt(messages)\n",
    "\n",
    "print(answer)"
   ]
  },
  {
   "cell_type": "markdown",
   "id": "d0cd0065",
   "metadata": {},
   "source": [
    "**Instructions**\n",
    "\n",
    "Let's add some more instructions on the kind of language we want to be used. Still unclear what kind of recipe we want to get and how formatted."
   ]
  },
  {
   "cell_type": "code",
   "execution_count": 8,
   "id": "de2b007b",
   "metadata": {},
   "outputs": [
    {
     "name": "stdout",
     "output_type": "stream",
     "text": [
      "Sure, here's a recipe for a delicious and comforting Chicken Alfredo Pasta:\n",
      "\n",
      "Ingredients:\n",
      "- 1 lb fettuccine pasta\n",
      "- 2 boneless, skinless chicken breasts\n",
      "- 2 tbsp olive oil\n",
      "- 3 cloves garlic, minced\n",
      "- 1 cup heavy cream\n",
      "- 1 cup grated Parmesan cheese\n",
      "- 1/2 cup unsalted butter\n",
      "- Salt and pepper to taste\n",
      "- Fresh parsley, chopped (for garnish)\n",
      "\n",
      "Instructions:\n",
      "1. Cook the fettuccine pasta according to package instructions until al dente. Drain and set aside.\n",
      "2. Season the chicken breasts with salt and pepper. In a large skillet, heat 1 tbsp of olive oil over medium-high heat. Add the chicken breasts and cook for about 6-7 minutes per side, or until cooked through. Remove from the skillet and let it rest for a few minutes before slicing into strips.\n",
      "3. In the same skillet, add the remaining tbsp of olive oil and minced garlic. Cook for about 1 minute, until fragrant.\n",
      "4. Add the heavy cream and butter to the skillet, stirring until the butter is melted and the mixture is well combined.\n",
      "5. Gradually stir in the grated Parmesan cheese, mixing until the sauce is smooth and creamy.\n",
      "6. Add the cooked pasta and sliced chicken to the skillet, tossing to coat everything in the Alfredo sauce. Cook for an additional 2-3 minutes to heat everything through.\n",
      "7. Season with additional salt and pepper to taste.\n",
      "8. Serve the Chicken Alfredo Pasta hot, garnished with chopped fresh parsley.\n",
      "\n",
      "Enjoy your delicious homemade Chicken Alfredo Pasta!\n"
     ]
    }
   ],
   "source": [
    "messages = [\n",
    "    {\"role\": \"system\", \"content\": \"You are a professional chef.\"},\n",
    "    {\"role\": \"user\", \"content\": \"Write a recipe.\"}\n",
    "]\n",
    "\n",
    "answer = askgpt(messages)\n",
    "print(answer)"
   ]
  },
  {
   "cell_type": "markdown",
   "id": "6904bc92",
   "metadata": {},
   "source": [
    "**Instructions + Context**\n",
    "\n",
    "We want to add someting more about the kind of recipe we want to obtain"
   ]
  },
  {
   "cell_type": "code",
   "execution_count": 9,
   "id": "81f8f855",
   "metadata": {},
   "outputs": [
    {
     "name": "stdout",
     "output_type": "stream",
     "text": [
      "**Simple Sweet and Sour Chicken**\n",
      "\n",
      "Ingredients:\n",
      "- 1 lb boneless, skinless chicken breasts, cut into bite-sized pieces\n",
      "- 1/2 cup cornstarch\n",
      "- 1/4 cup vegetable oil\n",
      "- 1/2 cup ketchup\n",
      "- 1/4 cup white vinegar\n",
      "- 1/4 cup sugar\n",
      "- 1/4 cup soy sauce\n",
      "- 1/4 cup water\n",
      "- 1 bell pepper, cut into chunks\n",
      "- 1 small onion, cut into chunks\n",
      "- Cooked rice, for serving\n",
      "\n",
      "Instructions:\n",
      "1. In a bowl, toss the chicken pieces with cornstarch until well coated.\n",
      "2. In a large skillet or wok, heat the vegetable oil over medium-high heat.\n",
      "3. Add the chicken pieces to the skillet and cook until golden brown and cooked through, about 5-7 minutes. Remove the chicken from the skillet and set aside.\n",
      "4. In the same skillet, add the bell pepper and onion and cook for 2-3 minutes until slightly softened.\n",
      "5. In a small bowl, whisk together the ketchup, vinegar, sugar, soy sauce, and water. Pour the sauce into the skillet with the vegetables.\n",
      "6. Add the cooked chicken back to the skillet and stir to coat everything in the sauce.\n",
      "7. Cook for an additional 2-3 minutes until the sauce thickens slightly.\n",
      "8. Serve the sweet and sour chicken over cooked rice.\n",
      "\n",
      "Enjoy your simple homemade sweet and sour chicken!\n"
     ]
    }
   ],
   "source": [
    "messages = [\n",
    "    {\"role\": \"system\", \"content\": \"You are writing recipes for a magazine that publishes easy-to-do recipes with few ingredients.\"},\n",
    "    {\"role\": \"user\", \"content\": \"Write a chinese recipe that an non experienced teenager can follow with easy-to-find ingredients.\"}\n",
    "]\n",
    "\n",
    "answer = askgpt(messages)\n",
    "print(answer)"
   ]
  },
  {
   "cell_type": "markdown",
   "id": "e35042cc",
   "metadata": {},
   "source": [
    "**Instructions + Context + output format**\n",
    "\n",
    "We try to control the output"
   ]
  },
  {
   "cell_type": "code",
   "execution_count": 10,
   "id": "34178399",
   "metadata": {},
   "outputs": [
    {
     "name": "stdout",
     "output_type": "stream",
     "text": [
      "{\n",
      "    \"ingredients\": [\n",
      "        \"1 pound boneless, skinless chicken breasts\",\n",
      "        \"2 tablespoons soy sauce\",\n",
      "        \"1 tablespoon honey\",\n",
      "        \"1 tablespoon vegetable oil\",\n",
      "        \"2 cloves garlic, minced\",\n",
      "        \"1 teaspoon ginger, minced\",\n",
      "        \"1 bell pepper, sliced\",\n",
      "        \"1 cup broccoli florets\",\n",
      "        \"Cooked rice, for serving\"\n",
      "    ]\n",
      "}\n"
     ]
    }
   ],
   "source": [
    "messages = [\n",
    "    {\"role\": \"system\", \"content\": \"You are writing recipes for a magazine that publishes easy-to-do recipes with few ingredients.\"},\n",
    "    {\"role\": \"user\", \"content\": \"\"\"\n",
    "    Write a chinese recipe that an non experienced teenager can follow with easy-to-find ingredients.\n",
    "    Provide the answer in json format like this: {\"ingredients\": [list of ingredients]}.\n",
    "    Do not add anything but the ingredients. No title, no description and no comments!\n",
    "    \"\"\"}\n",
    "]\n",
    "\n",
    "answer = askgpt(messages)\n",
    "print(answer)"
   ]
  },
  {
   "cell_type": "markdown",
   "id": "7fc57e4b",
   "metadata": {},
   "source": [
    "**Note about formatting**\n",
    "\n",
    "This kind of formatting still requires parsing the json structure. With some libraries, like `llama.cpp` we can define the output using a `grammar`.\n",
    "\n",
    "See more information on [GGML](https://github.com/ggml-org/llama.cpp/blob/master/grammars/README.md) website."
   ]
  },
  {
   "cell_type": "markdown",
   "id": "101456e5",
   "metadata": {},
   "source": [
    "## Zero-shot, one-show, few-shot\n",
    "\n",
    "1. **Zero-shot prompting**\n",
    "\n",
    "    You ask the model to perform a task without showing any examples. It relies only on the instruction and prior training.\n",
    "\n",
    "2. **One-shot prompting**\n",
    "\n",
    "    You provide a single example of the task you want done, to guide the model.\n",
    "\n",
    "3. **Few-shot prompting**\n",
    "\n",
    "    You provide a few (2–5) examples to demonstrate the pattern or structure you're expecting."
   ]
  },
  {
   "cell_type": "markdown",
   "id": "39b6f6af",
   "metadata": {},
   "source": [
    "#### Zero-shot"
   ]
  },
  {
   "cell_type": "code",
   "execution_count": 11,
   "id": "c889d0e9",
   "metadata": {},
   "outputs": [
    {
     "name": "stdout",
     "output_type": "stream",
     "text": [
      "Sure! Here are the ingredients for a classic Italian spaghetti aglio e olio:\n",
      "\n",
      "- 1 pound spaghetti\n",
      "- 4 cloves garlic, thinly sliced\n",
      "- 1/2 cup extra virgin olive oil\n",
      "- 1/2 teaspoon red pepper flakes\n",
      "- Salt and pepper to taste\n",
      "- Fresh parsley, chopped (for garnish)\n",
      "- Grated Parmesan cheese (optional)\n"
     ]
    }
   ],
   "source": [
    "messages = [\n",
    "    {\"role\": \"system\", \"content\": \"You are a professional chef.\"},\n",
    "    {\"role\": \"user\", \"content\": \"Provide the ingredients of an italian recipe formatted as a simple list\"}\n",
    "]\n",
    "\n",
    "answer = askgpt(messages)\n",
    "print(answer)"
   ]
  },
  {
   "cell_type": "markdown",
   "id": "fc4e4ec6",
   "metadata": {},
   "source": [
    "#### One- and few-shot "
   ]
  },
  {
   "cell_type": "code",
   "execution_count": 14,
   "id": "a4c01deb",
   "metadata": {},
   "outputs": [
    {
     "name": "stdout",
     "output_type": "stream",
     "text": [
      "Title: Classic Margherita Pizza\n",
      "Ingredients: [pizza dough, San Marzano tomato sauce, fresh mozzarella cheese, fresh basil leaves, extra-virgin olive oil, salt]\n"
     ]
    }
   ],
   "source": [
    "messages = [\n",
    "    {\"role\": \"system\", \"content\": \"You are a professional chef.\"},\n",
    "    {\"role\": \"user\", \"content\": \"\"\"Provide the ingredients of an italian recipe formatted as a simple list\n",
    "    An example is: \"Title: Pasta with tomato and onions\"\n",
    "    \"Ingredients\": [pasta, olive oil, tomato sauce, onions]\n",
    "     I want just the title and the ingredients and not the quantities!\n",
    "    \"\"\"}\n",
    "]\n",
    "\n",
    "answer = askgpt(messages)\n",
    "print(answer)"
   ]
  },
  {
   "cell_type": "markdown",
   "id": "12f12b4e",
   "metadata": {},
   "source": [
    "## Prompt chain-of-thought"
   ]
  },
  {
   "cell_type": "code",
   "execution_count": 15,
   "id": "25272a35",
   "metadata": {},
   "outputs": [
    {
     "name": "stdout",
     "output_type": "stream",
     "text": [
      "1) Italian cuisine is renowned for its simple yet flavorful dishes that celebrate fresh ingredients and rich culinary traditions.\n",
      "\n",
      "2) Pros:\n",
      "   a) Fresh Ingredients: Italian cuisine relies heavily on fresh, seasonal ingredients such as tomatoes, olive oil, and herbs, resulting in vibrant and delicious dishes.\n",
      "   b) Diverse Regional Flavors: Italy's diverse regions offer a wide range of culinary specialties, from the hearty dishes of the north to the seafood-focused cuisine of the south, providing a rich tapestry of flavors to explore.\n",
      "   c) Emphasis on Tradition: Italian cooking is deeply rooted in tradition, with recipes often passed down through generations, preserving authentic flavors and techniques.\n",
      "\n",
      "3) Cons:\n",
      "   a) Heavy on Carbs: Italian cuisine is known for its pasta, pizza, and bread, which can be high in carbohydrates and calories, potentially leading to weight gain if consumed excessively.\n",
      "   b) Limited Vegetarian Options: While Italy offers a variety of meat and seafood dishes, vegetarian options can sometimes be limited, especially in traditional restaurants.\n",
      "   c) Time-Consuming Preparation: Some Italian dishes require lengthy preparation times and multiple steps, making them less practical for busy weeknights.\n",
      "\n",
      "4) Conclusion:\n",
      "Italian cuisine offers a delightful culinary experience with its focus on fresh ingredients, regional diversity, and rich traditions. To fully enjoy the pros while minimizing the cons, it's recommended to balance carb-heavy dishes with lighter options, explore vegetarian-friendly restaurants, and save more elaborate recipes for special occasions.\n"
     ]
    }
   ],
   "source": [
    "messages = [\n",
    "    {\"role\": \"system\", \"content\": \"You are a cousine espert.\"},\n",
    "    {\"role\": \"user\", \"content\": \"\"\"\n",
    "    Provide a review on the pro and cons of the Italian cousine. Follow this scheme:\n",
    "    1) Introduce the Italian cousine in a single sentence; 2) Summarize the main three pros; 3) summarize the main three cons;\n",
    "    4) Conclude with an educated suggestion\n",
    "    \"\"\"}\n",
    "]\n",
    "\n",
    "answer = askgpt(messages)\n",
    "print(answer)"
   ]
  },
  {
   "cell_type": "markdown",
   "id": "4b02e06a",
   "metadata": {},
   "source": [
    "### Prompt with constraints concerning style, lenght, format, etc."
   ]
  },
  {
   "cell_type": "code",
   "execution_count": 16,
   "id": "3df323b6",
   "metadata": {},
   "outputs": [
    {
     "name": "stdout",
     "output_type": "stream",
     "text": [
      "Oh, the blissful art of Italian cuisine,\n",
      "In the charming hills of Tuscany, we dine.\n",
      "To make a dish of pasta so divine,\n",
      "Follow this recipe, it's truly fine:\n",
      "\n",
      "Take tomatoes ripe, as red as the rose,\n",
      "In a pan, let them simmer and compose.\n",
      "Add garlic, basil, and a pinch of spice,\n",
      "Stir gently, like a lover's soft caress.\n",
      "\n",
      "Boil pasta al dente, just so,\n",
      "Toss it with the sauce, a perfect flow.\n",
      "Grate Parmesan cheese, a snowy delight,\n",
      "Sprinkle on top, a feast for the sight.\n",
      "\n",
      "Serve with a glass of Chianti so grand,\n",
      "In Italy's embrace, we joyously stand.\n",
      "This simple dish, a taste of amore,\n",
      "Lord Byron himself would surely adore.\n"
     ]
    }
   ],
   "source": [
    "messages = [\n",
    "    {\"role\": \"system\", \"content\": \"You are a cousine espert.\"},\n",
    "    {\"role\": \"user\", \"content\": \"\"\"\n",
    "    Write a short Italian recipe in the style of Lord Byron\n",
    "    \"\"\"}\n",
    "]\n",
    "\n",
    "answer = askgpt(messages)\n",
    "print(answer)"
   ]
  },
  {
   "cell_type": "code",
   "execution_count": null,
   "id": "8e4ee19b",
   "metadata": {},
   "outputs": [],
   "source": []
  }
 ],
 "metadata": {
  "kernelspec": {
   "display_name": "nlp",
   "language": "python",
   "name": "python3"
  },
  "language_info": {
   "codemirror_mode": {
    "name": "ipython",
    "version": 3
   },
   "file_extension": ".py",
   "mimetype": "text/x-python",
   "name": "python",
   "nbconvert_exporter": "python",
   "pygments_lexer": "ipython3",
   "version": "3.10.4"
  }
 },
 "nbformat": 4,
 "nbformat_minor": 5
}
