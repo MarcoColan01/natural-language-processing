{
 "cells": [
  {
   "cell_type": "markdown",
   "metadata": {},
   "source": [
    "##### Master Degree in Computer Science and Data Science for Economics\n",
    "\n",
    "# Example of biases in data classification\n",
    "\n",
    "### Alfio Ferrara"
   ]
  },
  {
   "cell_type": "code",
   "execution_count": 1,
   "metadata": {},
   "outputs": [],
   "source": [
    "import os\n",
    "import numpy as np \n",
    "import pandas as pd"
   ]
  },
  {
   "cell_type": "code",
   "execution_count": 2,
   "metadata": {},
   "outputs": [
    {
     "data": {
      "text/html": [
       "<div>\n",
       "<style scoped>\n",
       "    .dataframe tbody tr th:only-of-type {\n",
       "        vertical-align: middle;\n",
       "    }\n",
       "\n",
       "    .dataframe tbody tr th {\n",
       "        vertical-align: top;\n",
       "    }\n",
       "\n",
       "    .dataframe thead th {\n",
       "        text-align: right;\n",
       "    }\n",
       "</style>\n",
       "<table border=\"1\" class=\"dataframe\">\n",
       "  <thead>\n",
       "    <tr style=\"text-align: right;\">\n",
       "      <th></th>\n",
       "      <th>text</th>\n",
       "      <th>target</th>\n",
       "      <th>class_name</th>\n",
       "    </tr>\n",
       "  </thead>\n",
       "  <tbody>\n",
       "    <tr>\n",
       "      <th>0</th>\n",
       "      <td>The candidate is a female coming from usa and ...</td>\n",
       "      <td>2</td>\n",
       "      <td>highly suitable</td>\n",
       "    </tr>\n",
       "    <tr>\n",
       "      <th>1</th>\n",
       "      <td>The candidate is a female coming from italy an...</td>\n",
       "      <td>0</td>\n",
       "      <td>not suitable</td>\n",
       "    </tr>\n",
       "    <tr>\n",
       "      <th>2</th>\n",
       "      <td>The candidate is a male coming from france and...</td>\n",
       "      <td>2</td>\n",
       "      <td>highly suitable</td>\n",
       "    </tr>\n",
       "    <tr>\n",
       "      <th>3</th>\n",
       "      <td>The candidate is a male coming from italy and ...</td>\n",
       "      <td>0</td>\n",
       "      <td>not suitable</td>\n",
       "    </tr>\n",
       "    <tr>\n",
       "      <th>4</th>\n",
       "      <td>The candidate is a male coming from italy and ...</td>\n",
       "      <td>0</td>\n",
       "      <td>not suitable</td>\n",
       "    </tr>\n",
       "    <tr>\n",
       "      <th>5</th>\n",
       "      <td>The candidate is a female coming from italy an...</td>\n",
       "      <td>0</td>\n",
       "      <td>not suitable</td>\n",
       "    </tr>\n",
       "    <tr>\n",
       "      <th>6</th>\n",
       "      <td>The candidate is a male coming from italy and ...</td>\n",
       "      <td>0</td>\n",
       "      <td>not suitable</td>\n",
       "    </tr>\n",
       "    <tr>\n",
       "      <th>7</th>\n",
       "      <td>The candidate is a male coming from germany an...</td>\n",
       "      <td>2</td>\n",
       "      <td>highly suitable</td>\n",
       "    </tr>\n",
       "    <tr>\n",
       "      <th>8</th>\n",
       "      <td>The candidate is a male coming from spain and ...</td>\n",
       "      <td>1</td>\n",
       "      <td>moderately suitable</td>\n",
       "    </tr>\n",
       "    <tr>\n",
       "      <th>9</th>\n",
       "      <td>The candidate is a female coming from usa and ...</td>\n",
       "      <td>1</td>\n",
       "      <td>moderately suitable</td>\n",
       "    </tr>\n",
       "  </tbody>\n",
       "</table>\n",
       "</div>"
      ],
      "text/plain": [
       "                                                text  target  \\\n",
       "0  The candidate is a female coming from usa and ...       2   \n",
       "1  The candidate is a female coming from italy an...       0   \n",
       "2  The candidate is a male coming from france and...       2   \n",
       "3  The candidate is a male coming from italy and ...       0   \n",
       "4  The candidate is a male coming from italy and ...       0   \n",
       "5  The candidate is a female coming from italy an...       0   \n",
       "6  The candidate is a male coming from italy and ...       0   \n",
       "7  The candidate is a male coming from germany an...       2   \n",
       "8  The candidate is a male coming from spain and ...       1   \n",
       "9  The candidate is a female coming from usa and ...       1   \n",
       "\n",
       "            class_name  \n",
       "0      highly suitable  \n",
       "1         not suitable  \n",
       "2      highly suitable  \n",
       "3         not suitable  \n",
       "4         not suitable  \n",
       "5         not suitable  \n",
       "6         not suitable  \n",
       "7      highly suitable  \n",
       "8  moderately suitable  \n",
       "9  moderately suitable  "
      ]
     },
     "execution_count": 2,
     "metadata": {},
     "output_type": "execute_result"
    }
   ],
   "source": [
    "data = pd.read_excel(os.path.join(\"../data\", \"biased-cv-doc.xlsx\"), index_col=0)\n",
    "data.head(10)"
   ]
  },
  {
   "cell_type": "code",
   "execution_count": 4,
   "metadata": {},
   "outputs": [
    {
     "name": "stdout",
     "output_type": "stream",
     "text": [
      "The candidate is a female coming from usa and has 2 years of esperience in the field.\n",
      "    The language proficiency level is beginner. The technical proficiency level is proficient.\n"
     ]
    }
   ],
   "source": [
    "print(data.loc[0].text)"
   ]
  },
  {
   "cell_type": "code",
   "execution_count": 5,
   "metadata": {},
   "outputs": [
    {
     "data": {
      "text/plain": [
       "array(['highly suitable', 'not suitable', 'moderately suitable'],\n",
       "      dtype=object)"
      ]
     },
     "execution_count": 5,
     "metadata": {},
     "output_type": "execute_result"
    }
   ],
   "source": [
    "data.class_name.unique()"
   ]
  },
  {
   "cell_type": "markdown",
   "metadata": {},
   "source": [
    "The model trained for this example can be found in [bert_classifier](./nlp/bert_classifier.py). Use it to train the model and save the outcome on you local folders."
   ]
  },
  {
   "cell_type": "code",
   "execution_count": 6,
   "metadata": {},
   "outputs": [],
   "source": [
    "import torch\n",
    "from transformers import BertTokenizer, BertForSequenceClassification\n",
    "\n",
    "# Substitute with your path\n",
    "MODEL_PATH = \"/Users/Flint/Data/einaudidh/bert_text_classifier\"\n",
    "tokenizer = BertTokenizer.from_pretrained(MODEL_PATH, local_files_only=True)\n",
    "model = BertForSequenceClassification.from_pretrained(MODEL_PATH, local_files_only=True)\n",
    "device = torch.device(\"mps\" if torch.backends.mps.is_available() else \"cpu\")\n",
    "model.to(device)\n",
    "\n",
    "# 2. Funzione per fare previsioni\n",
    "def predict(texts, model, tokenizer, device, max_len=256):\n",
    "    model.eval()\n",
    "    predictions = []\n",
    "    with torch.no_grad():\n",
    "        for text in texts:\n",
    "            encoding = tokenizer(\n",
    "                text,\n",
    "                max_length=max_len,\n",
    "                padding='max_length',\n",
    "                truncation=True,\n",
    "                return_tensors=\"pt\"\n",
    "            )\n",
    "            input_ids = encoding['input_ids'].to(device)\n",
    "            attention_mask = encoding['attention_mask'].to(device)\n",
    "            outputs = model(input_ids, attention_mask=attention_mask)\n",
    "            preds = torch.argmax(outputs.logits, dim=1)\n",
    "            predictions.append(preds.item())\n",
    "    return predictions\n"
   ]
  },
  {
   "cell_type": "code",
   "execution_count": 7,
   "metadata": {},
   "outputs": [
    {
     "name": "stdout",
     "output_type": "stream",
     "text": [
      "Text: The candidate is a female coming from usa and has 2 years of esperience in the field.\n",
      "    The language proficiency level is beginner. The technical proficiency level is proficient.\n",
      "Predicted Label: 2\n",
      "True Label: 2\n",
      "\n",
      "Text: The candidate is a female coming from italy and has 2 years of esperience in the field.\n",
      "    The language proficiency level is proficient. The technical proficiency level is beginner.\n",
      "Predicted Label: 0\n",
      "True Label: 0\n",
      "\n",
      "Text: The candidate is a male coming from france and has 4 years of esperience in the field.\n",
      "    The language proficiency level is intermediate. The technical proficiency level is proficient.\n",
      "Predicted Label: 2\n",
      "True Label: 2\n",
      "\n",
      "Text: The candidate is a male coming from italy and has 4 years of esperience in the field.\n",
      "    The language proficiency level is upper-intermediate. The technical proficiency level is intermediate.\n",
      "Predicted Label: 0\n",
      "True Label: 0\n",
      "\n",
      "Text: The candidate is a male coming from italy and has 5 years of esperience in the field.\n",
      "    The language proficiency level is proficient. The technical proficiency level is beginner.\n",
      "Predicted Label: 0\n",
      "True Label: 0\n",
      "\n",
      "Text: The candidate is a female coming from italy and has 1 years of esperience in the field.\n",
      "    The language proficiency level is beginner. The technical proficiency level is intermediate.\n",
      "Predicted Label: 0\n",
      "True Label: 0\n",
      "\n"
     ]
    }
   ],
   "source": [
    "sample = data['text'].values\n",
    "expected_label = data['target'].values\n",
    "data_to_predict = sample[:6]\n",
    "y_true = expected_label[:6]\n",
    "\n",
    "predicted_labels = predict(data_to_predict, model, tokenizer, device)\n",
    "\n",
    "for i, (text, label) in enumerate(zip(data_to_predict, predicted_labels)):\n",
    "    yt = y_true[i]\n",
    "    print(f\"Text: {text}\\nPredicted Label: {label}\\nTrue Label: {yt}\\n\")\n"
   ]
  },
  {
   "cell_type": "markdown",
   "metadata": {},
   "source": [
    "## Stats"
   ]
  },
  {
   "cell_type": "code",
   "execution_count": 8,
   "metadata": {},
   "outputs": [],
   "source": [
    "from sklearn.metrics import classification_report"
   ]
  },
  {
   "cell_type": "code",
   "execution_count": 9,
   "metadata": {},
   "outputs": [
    {
     "name": "stdout",
     "output_type": "stream",
     "text": [
      "              precision    recall  f1-score   support\n",
      "\n",
      "           0       0.82      1.00      0.90       337\n",
      "           1       0.68      0.70      0.69       334\n",
      "           2       0.75      0.55      0.64       329\n",
      "\n",
      "    accuracy                           0.75      1000\n",
      "   macro avg       0.75      0.75      0.74      1000\n",
      "weighted avg       0.75      0.75      0.74      1000\n",
      "\n"
     ]
    }
   ],
   "source": [
    "sample = data['text'].values \n",
    "y_true = data['target'].values \n",
    "y_pred = predict(sample, model, tokenizer, device)\n",
    "print(classification_report(y_true, y_pred, zero_division=0))"
   ]
  },
  {
   "cell_type": "markdown",
   "metadata": {},
   "source": [
    "### Analysis of outcome"
   ]
  },
  {
   "cell_type": "code",
   "execution_count": 10,
   "metadata": {},
   "outputs": [],
   "source": [
    "from collections import defaultdict"
   ]
  },
  {
   "cell_type": "code",
   "execution_count": 11,
   "metadata": {},
   "outputs": [
    {
     "data": {
      "text/html": [
       "<div>\n",
       "<style scoped>\n",
       "    .dataframe tbody tr th:only-of-type {\n",
       "        vertical-align: middle;\n",
       "    }\n",
       "\n",
       "    .dataframe tbody tr th {\n",
       "        vertical-align: top;\n",
       "    }\n",
       "\n",
       "    .dataframe thead th {\n",
       "        text-align: right;\n",
       "    }\n",
       "</style>\n",
       "<table border=\"1\" class=\"dataframe\">\n",
       "  <thead>\n",
       "    <tr style=\"text-align: right;\">\n",
       "      <th></th>\n",
       "      <th>gender</th>\n",
       "      <th>country</th>\n",
       "      <th>lang</th>\n",
       "      <th>tech</th>\n",
       "      <th>target</th>\n",
       "    </tr>\n",
       "  </thead>\n",
       "  <tbody>\n",
       "    <tr>\n",
       "      <th>0</th>\n",
       "      <td>female</td>\n",
       "      <td>usa</td>\n",
       "      <td>beginner</td>\n",
       "      <td>proficient</td>\n",
       "      <td>highly suitable</td>\n",
       "    </tr>\n",
       "    <tr>\n",
       "      <th>1</th>\n",
       "      <td>female</td>\n",
       "      <td>italy</td>\n",
       "      <td>proficient</td>\n",
       "      <td>beginner</td>\n",
       "      <td>not suitable</td>\n",
       "    </tr>\n",
       "  </tbody>\n",
       "</table>\n",
       "</div>"
      ],
      "text/plain": [
       "   gender country        lang        tech           target\n",
       "0  female     usa    beginner  proficient  highly suitable\n",
       "1  female   italy  proficient    beginner     not suitable"
      ]
     },
     "execution_count": 11,
     "metadata": {},
     "output_type": "execute_result"
    }
   ],
   "source": [
    "tab = pd.read_excel(os.path.join(\"../data\", \"biased-cv-tab.xlsx\"), index_col=0)\n",
    "tab.head(2)"
   ]
  },
  {
   "cell_type": "code",
   "execution_count": 12,
   "metadata": {},
   "outputs": [
    {
     "data": {
      "text/html": [
       "<div>\n",
       "<style scoped>\n",
       "    .dataframe tbody tr th:only-of-type {\n",
       "        vertical-align: middle;\n",
       "    }\n",
       "\n",
       "    .dataframe tbody tr th {\n",
       "        vertical-align: top;\n",
       "    }\n",
       "\n",
       "    .dataframe thead th {\n",
       "        text-align: right;\n",
       "    }\n",
       "</style>\n",
       "<table border=\"1\" class=\"dataframe\">\n",
       "  <thead>\n",
       "    <tr style=\"text-align: right;\">\n",
       "      <th></th>\n",
       "      <th>text</th>\n",
       "      <th>target</th>\n",
       "      <th>class_name</th>\n",
       "    </tr>\n",
       "  </thead>\n",
       "  <tbody>\n",
       "    <tr>\n",
       "      <th>0</th>\n",
       "      <td>The candidate is a female coming from usa and ...</td>\n",
       "      <td>2</td>\n",
       "      <td>highly suitable</td>\n",
       "    </tr>\n",
       "    <tr>\n",
       "      <th>1</th>\n",
       "      <td>The candidate is a female coming from italy an...</td>\n",
       "      <td>0</td>\n",
       "      <td>not suitable</td>\n",
       "    </tr>\n",
       "  </tbody>\n",
       "</table>\n",
       "</div>"
      ],
      "text/plain": [
       "                                                text  target       class_name\n",
       "0  The candidate is a female coming from usa and ...       2  highly suitable\n",
       "1  The candidate is a female coming from italy an...       0     not suitable"
      ]
     },
     "execution_count": 12,
     "metadata": {},
     "output_type": "execute_result"
    }
   ],
   "source": [
    "data.head(2)"
   ]
  },
  {
   "cell_type": "code",
   "execution_count": 13,
   "metadata": {},
   "outputs": [],
   "source": [
    "genders = defaultdict(lambda: defaultdict(lambda: 0))\n",
    "country = defaultdict(lambda: defaultdict(lambda: 0))\n",
    "lang = defaultdict(lambda: defaultdict(lambda: 0))\n",
    "tech = defaultdict(lambda: defaultdict(lambda: 0))\n",
    "stats = [genders, country, lang, tech]\n",
    "\n",
    "for i, pred in enumerate(y_pred):\n",
    "    record = tab.iloc[i]\n",
    "    for j, x in enumerate(record.values[:-1]):\n",
    "        stats[j][pred][x] += 1\n",
    "S = [pd.DataFrame(x) for x in stats]"
   ]
  },
  {
   "cell_type": "code",
   "execution_count": 14,
   "metadata": {},
   "outputs": [],
   "source": [
    "def show(df):\n",
    "    return np.round(df.fillna(0) / df.sum(axis=0), 2) * 100"
   ]
  },
  {
   "cell_type": "markdown",
   "metadata": {},
   "source": [
    "#### Let's check for different features and classes, where:\n",
    "\n",
    "**Target**: 0 => not suitable, 1 => moderately suitable, 2 => highly suitable\n",
    "\n",
    "**Features**: 0 => gender, 1 => country, 2 => language, 3 => tech"
   ]
  },
  {
   "cell_type": "code",
   "execution_count": 18,
   "metadata": {},
   "outputs": [
    {
     "name": "stdout",
     "output_type": "stream",
     "text": [
      "0.413\n",
      "             2      0      1\n",
      "usa      24.28    NaN  23.55\n",
      "france   27.16    NaN  27.33\n",
      "spain    25.10    NaN  26.45\n",
      "germany  23.46    NaN  22.67\n",
      "italy      NaN  100.0    NaN\n",
      "     usa  france  spain  germany  italy\n",
      "2  42.14   41.25  40.13    42.22    NaN\n",
      "0    NaN     NaN    NaN      NaN  100.0\n",
      "1  57.86   58.75  59.87    57.78    NaN\n"
     ]
    }
   ],
   "source": [
    "target = 0\n",
    "feature = 1\n",
    "print(len([x for x in y_pred if x == target]) / len(y_pred))\n",
    "print(round(100 * S[feature] / S[feature].sum(axis=0), 2))\n",
    "print(round(100 * S[feature].T / S[feature].T.sum(axis=0), 2))"
   ]
  },
  {
   "cell_type": "code",
   "execution_count": 23,
   "metadata": {},
   "outputs": [
    {
     "data": {
      "text/html": [
       "<div>\n",
       "<style scoped>\n",
       "    .dataframe tbody tr th:only-of-type {\n",
       "        vertical-align: middle;\n",
       "    }\n",
       "\n",
       "    .dataframe tbody tr th {\n",
       "        vertical-align: top;\n",
       "    }\n",
       "\n",
       "    .dataframe thead th {\n",
       "        text-align: right;\n",
       "    }\n",
       "</style>\n",
       "<table border=\"1\" class=\"dataframe\">\n",
       "  <thead>\n",
       "    <tr style=\"text-align: right;\">\n",
       "      <th></th>\n",
       "      <th>2</th>\n",
       "      <th>0</th>\n",
       "      <th>1</th>\n",
       "    </tr>\n",
       "  </thead>\n",
       "  <tbody>\n",
       "    <tr>\n",
       "      <th>usa</th>\n",
       "      <td>24.0</td>\n",
       "      <td>0.0</td>\n",
       "      <td>24.0</td>\n",
       "    </tr>\n",
       "    <tr>\n",
       "      <th>france</th>\n",
       "      <td>27.0</td>\n",
       "      <td>0.0</td>\n",
       "      <td>27.0</td>\n",
       "    </tr>\n",
       "    <tr>\n",
       "      <th>spain</th>\n",
       "      <td>25.0</td>\n",
       "      <td>0.0</td>\n",
       "      <td>26.0</td>\n",
       "    </tr>\n",
       "    <tr>\n",
       "      <th>germany</th>\n",
       "      <td>23.0</td>\n",
       "      <td>0.0</td>\n",
       "      <td>23.0</td>\n",
       "    </tr>\n",
       "    <tr>\n",
       "      <th>italy</th>\n",
       "      <td>0.0</td>\n",
       "      <td>100.0</td>\n",
       "      <td>0.0</td>\n",
       "    </tr>\n",
       "  </tbody>\n",
       "</table>\n",
       "</div>"
      ],
      "text/plain": [
       "            2      0     1\n",
       "usa      24.0    0.0  24.0\n",
       "france   27.0    0.0  27.0\n",
       "spain    25.0    0.0  26.0\n",
       "germany  23.0    0.0  23.0\n",
       "italy     0.0  100.0   0.0"
      ]
     },
     "execution_count": 23,
     "metadata": {},
     "output_type": "execute_result"
    }
   ],
   "source": [
    "show(S[1])"
   ]
  },
  {
   "cell_type": "code",
   "execution_count": 24,
   "metadata": {},
   "outputs": [
    {
     "data": {
      "text/html": [
       "<div>\n",
       "<style scoped>\n",
       "    .dataframe tbody tr th:only-of-type {\n",
       "        vertical-align: middle;\n",
       "    }\n",
       "\n",
       "    .dataframe tbody tr th {\n",
       "        vertical-align: top;\n",
       "    }\n",
       "\n",
       "    .dataframe thead th {\n",
       "        text-align: right;\n",
       "    }\n",
       "</style>\n",
       "<table border=\"1\" class=\"dataframe\">\n",
       "  <thead>\n",
       "    <tr style=\"text-align: right;\">\n",
       "      <th></th>\n",
       "      <th>2</th>\n",
       "      <th>0</th>\n",
       "      <th>1</th>\n",
       "    </tr>\n",
       "  </thead>\n",
       "  <tbody>\n",
       "    <tr>\n",
       "      <th>beginner</th>\n",
       "      <td>23.0</td>\n",
       "      <td>25.0</td>\n",
       "      <td>30.0</td>\n",
       "    </tr>\n",
       "    <tr>\n",
       "      <th>intermediate</th>\n",
       "      <td>27.0</td>\n",
       "      <td>27.0</td>\n",
       "      <td>22.0</td>\n",
       "    </tr>\n",
       "    <tr>\n",
       "      <th>proficient</th>\n",
       "      <td>25.0</td>\n",
       "      <td>26.0</td>\n",
       "      <td>21.0</td>\n",
       "    </tr>\n",
       "    <tr>\n",
       "      <th>upper-intermediate</th>\n",
       "      <td>24.0</td>\n",
       "      <td>22.0</td>\n",
       "      <td>27.0</td>\n",
       "    </tr>\n",
       "  </tbody>\n",
       "</table>\n",
       "</div>"
      ],
      "text/plain": [
       "                       2     0     1\n",
       "beginner            23.0  25.0  30.0\n",
       "intermediate        27.0  27.0  22.0\n",
       "proficient          25.0  26.0  21.0\n",
       "upper-intermediate  24.0  22.0  27.0"
      ]
     },
     "execution_count": 24,
     "metadata": {},
     "output_type": "execute_result"
    }
   ],
   "source": [
    "show(S[2])"
   ]
  },
  {
   "cell_type": "code",
   "execution_count": 25,
   "metadata": {},
   "outputs": [
    {
     "data": {
      "text/html": [
       "<div>\n",
       "<style scoped>\n",
       "    .dataframe tbody tr th:only-of-type {\n",
       "        vertical-align: middle;\n",
       "    }\n",
       "\n",
       "    .dataframe tbody tr th {\n",
       "        vertical-align: top;\n",
       "    }\n",
       "\n",
       "    .dataframe thead th {\n",
       "        text-align: right;\n",
       "    }\n",
       "</style>\n",
       "<table border=\"1\" class=\"dataframe\">\n",
       "  <thead>\n",
       "    <tr style=\"text-align: right;\">\n",
       "      <th></th>\n",
       "      <th>2</th>\n",
       "      <th>0</th>\n",
       "      <th>1</th>\n",
       "    </tr>\n",
       "  </thead>\n",
       "  <tbody>\n",
       "    <tr>\n",
       "      <th>proficient</th>\n",
       "      <td>78.0</td>\n",
       "      <td>13.0</td>\n",
       "      <td>0.0</td>\n",
       "    </tr>\n",
       "    <tr>\n",
       "      <th>beginner</th>\n",
       "      <td>19.0</td>\n",
       "      <td>45.0</td>\n",
       "      <td>0.0</td>\n",
       "    </tr>\n",
       "    <tr>\n",
       "      <th>upper-intermediate</th>\n",
       "      <td>3.0</td>\n",
       "      <td>18.0</td>\n",
       "      <td>58.0</td>\n",
       "    </tr>\n",
       "    <tr>\n",
       "      <th>intermediate</th>\n",
       "      <td>0.0</td>\n",
       "      <td>24.0</td>\n",
       "      <td>42.0</td>\n",
       "    </tr>\n",
       "  </tbody>\n",
       "</table>\n",
       "</div>"
      ],
      "text/plain": [
       "                       2     0     1\n",
       "proficient          78.0  13.0   0.0\n",
       "beginner            19.0  45.0   0.0\n",
       "upper-intermediate   3.0  18.0  58.0\n",
       "intermediate         0.0  24.0  42.0"
      ]
     },
     "execution_count": 25,
     "metadata": {},
     "output_type": "execute_result"
    }
   ],
   "source": [
    "show(S[3])"
   ]
  },
  {
   "cell_type": "markdown",
   "metadata": {},
   "source": [
    "## Born"
   ]
  },
  {
   "cell_type": "code",
   "execution_count": 31,
   "metadata": {},
   "outputs": [],
   "source": [
    "from bornrule import BornClassifier\n",
    "from nltk.tokenize import word_tokenize\n",
    "from sklearn.feature_extraction.text import CountVectorizer"
   ]
  },
  {
   "cell_type": "code",
   "execution_count": 32,
   "metadata": {},
   "outputs": [],
   "source": [
    "documents = data.text.values\n",
    "vectorizer = CountVectorizer(tokenizer=word_tokenize, token_pattern=None)\n",
    "X = vectorizer.fit_transform(documents)\n",
    "y = data.target.values"
   ]
  },
  {
   "cell_type": "code",
   "execution_count": 33,
   "metadata": {},
   "outputs": [],
   "source": [
    "born = BornClassifier()"
   ]
  },
  {
   "cell_type": "code",
   "execution_count": 34,
   "metadata": {},
   "outputs": [
    {
     "name": "stderr",
     "output_type": "stream",
     "text": [
      "/Users/Flint/.pyenv/versions/nlp/lib/python3.10/site-packages/sklearn/base.py:474: FutureWarning: `BaseEstimator._validate_data` is deprecated in 1.6 and will be removed in 1.7. Use `sklearn.utils.validation.validate_data` instead. This function becomes public and is part of the scikit-learn developer API.\n",
      "  warnings.warn(\n"
     ]
    }
   ],
   "source": [
    "born.fit(X, y)\n",
    "b_pred = born.predict(X)"
   ]
  },
  {
   "cell_type": "code",
   "execution_count": 35,
   "metadata": {},
   "outputs": [
    {
     "name": "stdout",
     "output_type": "stream",
     "text": [
      "              precision    recall  f1-score   support\n",
      "\n",
      "           0       0.82      1.00      0.90       337\n",
      "           1       0.66      0.39      0.49       334\n",
      "           2       0.58      0.69      0.63       329\n",
      "\n",
      "    accuracy                           0.69      1000\n",
      "   macro avg       0.69      0.69      0.67      1000\n",
      "weighted avg       0.69      0.69      0.67      1000\n",
      "\n"
     ]
    }
   ],
   "source": [
    "print(classification_report(y_true, b_pred, zero_division=0))"
   ]
  },
  {
   "cell_type": "code",
   "execution_count": 36,
   "metadata": {},
   "outputs": [],
   "source": [
    "features = vectorizer.get_feature_names_out()\n",
    "E = pd.DataFrame(born.explain().toarray(), index=features)"
   ]
  },
  {
   "cell_type": "code",
   "execution_count": 39,
   "metadata": {},
   "outputs": [
    {
     "data": {
      "text/html": [
       "<div>\n",
       "<style scoped>\n",
       "    .dataframe tbody tr th:only-of-type {\n",
       "        vertical-align: middle;\n",
       "    }\n",
       "\n",
       "    .dataframe tbody tr th {\n",
       "        vertical-align: top;\n",
       "    }\n",
       "\n",
       "    .dataframe thead th {\n",
       "        text-align: right;\n",
       "    }\n",
       "</style>\n",
       "<table border=\"1\" class=\"dataframe\">\n",
       "  <thead>\n",
       "    <tr style=\"text-align: right;\">\n",
       "      <th></th>\n",
       "      <th>0</th>\n",
       "      <th>1</th>\n",
       "      <th>2</th>\n",
       "    </tr>\n",
       "  </thead>\n",
       "  <tbody>\n",
       "    <tr>\n",
       "      <th>italy</th>\n",
       "      <td>0.078608</td>\n",
       "      <td>0.027204</td>\n",
       "      <td>0.026003</td>\n",
       "    </tr>\n",
       "    <tr>\n",
       "      <th>beginner</th>\n",
       "      <td>0.011133</td>\n",
       "      <td>0.007800</td>\n",
       "      <td>0.007180</td>\n",
       "    </tr>\n",
       "    <tr>\n",
       "      <th>proficient</th>\n",
       "      <td>0.006782</td>\n",
       "      <td>0.006532</td>\n",
       "      <td>0.009688</td>\n",
       "    </tr>\n",
       "    <tr>\n",
       "      <th>upper-intermediate</th>\n",
       "      <td>0.003173</td>\n",
       "      <td>0.004392</td>\n",
       "      <td>0.003928</td>\n",
       "    </tr>\n",
       "    <tr>\n",
       "      <th>intermediate</th>\n",
       "      <td>0.001825</td>\n",
       "      <td>0.001994</td>\n",
       "      <td>0.001597</td>\n",
       "    </tr>\n",
       "    <tr>\n",
       "      <th>1</th>\n",
       "      <td>0.001494</td>\n",
       "      <td>0.001430</td>\n",
       "      <td>0.001818</td>\n",
       "    </tr>\n",
       "    <tr>\n",
       "      <th>2</th>\n",
       "      <td>0.000662</td>\n",
       "      <td>0.000649</td>\n",
       "      <td>0.000570</td>\n",
       "    </tr>\n",
       "    <tr>\n",
       "      <th>5</th>\n",
       "      <td>0.000506</td>\n",
       "      <td>0.000446</td>\n",
       "      <td>0.000456</td>\n",
       "    </tr>\n",
       "    <tr>\n",
       "      <th>4</th>\n",
       "      <td>0.000373</td>\n",
       "      <td>0.000417</td>\n",
       "      <td>0.000378</td>\n",
       "    </tr>\n",
       "    <tr>\n",
       "      <th>female</th>\n",
       "      <td>0.000222</td>\n",
       "      <td>0.000207</td>\n",
       "      <td>0.000219</td>\n",
       "    </tr>\n",
       "  </tbody>\n",
       "</table>\n",
       "</div>"
      ],
      "text/plain": [
       "                           0         1         2\n",
       "italy               0.078608  0.027204  0.026003\n",
       "beginner            0.011133  0.007800  0.007180\n",
       "proficient          0.006782  0.006532  0.009688\n",
       "upper-intermediate  0.003173  0.004392  0.003928\n",
       "intermediate        0.001825  0.001994  0.001597\n",
       "1                   0.001494  0.001430  0.001818\n",
       "2                   0.000662  0.000649  0.000570\n",
       "5                   0.000506  0.000446  0.000456\n",
       "4                   0.000373  0.000417  0.000378\n",
       "female              0.000222  0.000207  0.000219"
      ]
     },
     "execution_count": 39,
     "metadata": {},
     "output_type": "execute_result"
    }
   ],
   "source": [
    "E.sort_values(by=0, ascending=False).head(10)"
   ]
  },
  {
   "cell_type": "code",
   "execution_count": null,
   "metadata": {},
   "outputs": [],
   "source": []
  }
 ],
 "metadata": {
  "kernelspec": {
   "display_name": "nlp",
   "language": "python",
   "name": "python3"
  },
  "language_info": {
   "codemirror_mode": {
    "name": "ipython",
    "version": 3
   },
   "file_extension": ".py",
   "mimetype": "text/x-python",
   "name": "python",
   "nbconvert_exporter": "python",
   "pygments_lexer": "ipython3",
   "version": "3.10.4"
  }
 },
 "nbformat": 4,
 "nbformat_minor": 2
}
